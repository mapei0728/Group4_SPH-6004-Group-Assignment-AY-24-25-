{
 "cells": [
  {
   "cell_type": "code",
   "execution_count": 1,
   "id": "03b010d4",
   "metadata": {},
   "outputs": [],
   "source": [
    "import os\n",
    "import numpy as np\n",
    "import pandas as pd\n",
    "import torch\n",
    "from torch.utils.data import Dataset"
   ]
  },
  {
   "cell_type": "code",
   "execution_count": null,
   "id": "c5df02d9",
   "metadata": {},
   "outputs": [],
   "source": [
    "def link_all_mimic_data(report_folder, chexpert_csv, metadata_csv, views=[\"PA\"], load_text=True):\n",
    "    # 1. Define primary observation labels\n",
    "    pathologies = [\n",
    "        \"Enlarged Cardiomediastinum\", \"Cardiomegaly\", \"Lung Lesion\",\n",
    "        \"Lung Opacity\", \"Edema\", \"Consolidation\", \"Pneumonia\", \"Atelectasis\",\n",
    "        \"Pneumothorax\", \"Pleural Effusion\", \"Pleural Other\", \"Fracture\", \"Support Devices\"\n",
    "    ]\n",
    "\n",
    "    # 2. Load input CSV files\n",
    "    df_chexpert = pd.read_csv(chexpert_csv)\n",
    "    df_meta = pd.read_csv(metadata_csv)\n",
    "\n",
    "    # 3. Merge metadata and chexpert labels\n",
    "    if \"subject_id\" in df_chexpert.columns:\n",
    "        df = pd.merge(df_meta, df_chexpert, on=[\"subject_id\", \"study_id\"])\n",
    "    else:\n",
    "        df = pd.merge(df_meta, df_chexpert, on=\"study_id\")\n",
    "        df = df.rename(columns={\"subject_id_x\": \"subject_id\"})\n",
    "        if \"subject_id_y\" in df.columns:\n",
    "            df = df.drop(columns=[\"subject_id_y\"])\n",
    "\n",
    "    # 4. Filter by view position (e.g., PA only)\n",
    "    df[\"view\"] = df[\"ViewPosition\"].fillna(\"UNKNOWN\")\n",
    "    if \"*\" not in views:\n",
    "        df = df[df[\"view\"].isin(views)]\n",
    "\n",
    "    # 5. Construct report path for each study\n",
    "    def build_report_path(subject_id, study_id):\n",
    "        sid = str(subject_id)\n",
    "        stid = str(study_id)\n",
    "        folder1 = \"p\" + sid[:2]\n",
    "        folder2 = \"p\" + sid\n",
    "        filename = \"s\" + stid + \".txt\"\n",
    "        full_path = os.path.join(report_folder, folder1, folder2, filename)\n",
    "        return full_path if os.path.exists(full_path) else None\n",
    "\n",
    "    df[\"report_path\"] = df.apply(\n",
    "        lambda row: build_report_path(row[\"subject_id\"], row[\"study_id\"]), axis=1\n",
    "    )\n",
    "    df = df[df[\"report_path\"].notna()].reset_index(drop=True)\n",
    "\n",
    "    # 6. (Optional) Load report text\n",
    "    if load_text:\n",
    "        def read_text(path):\n",
    "            try:\n",
    "                with open(path, \"r\", encoding=\"utf-8\") as f:\n",
    "                    return f.read()\n",
    "            except:\n",
    "                return \"\"\n",
    "        df[\"report_text\"] = df[\"report_path\"].apply(read_text)\n",
    "\n",
    "    # 7. Keep core columns\n",
    "    base_cols = [\"subject_id\", \"study_id\", \"dicom_id\", \"view\", \"StudyDate\", \"report_path\"]\n",
    "    if load_text:\n",
    "        base_cols.append(\"report_text\")\n",
    "    label_cols = [col for col in df.columns if col in pathologies]\n",
    "\n",
    "    df_final = df[base_cols + label_cols].copy()\n",
    "    return df_final"
   ]
  },
  {
   "cell_type": "code",
   "execution_count": null,
   "id": "ecfef57b",
   "metadata": {},
   "outputs": [],
   "source": [
    "df_linked = link_all_mimic_data(\n",
    "    report_folder=\"mimic-cxr-reports/files\",\n",
    "    chexpert_csv=\"mimic-cxr-2.0.0-chexpert.csv\",\n",
    "    metadata_csv=\"mimic-cxr-2.0.0-metadata.csv\",\n",
    "    views=[\"PA\"], \n",
    "    load_text=True\n",
    ")\n",
    "\n",
    "df_linked.to_csv(\"mimic_task2_linked_data_Full.csv\", index=False)"
   ]
  }
 ],
 "metadata": {
  "kernelspec": {
   "display_name": "Python 3",
   "language": "python",
   "name": "python3"
  },
  "language_info": {
   "codemirror_mode": {
    "name": "ipython",
    "version": 3
   },
   "file_extension": ".py",
   "mimetype": "text/x-python",
   "name": "python",
   "nbconvert_exporter": "python",
   "pygments_lexer": "ipython3",
   "version": "3.10.6"
  }
 },
 "nbformat": 4,
 "nbformat_minor": 5
}
