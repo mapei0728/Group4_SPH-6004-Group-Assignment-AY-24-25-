{
 "cells": [
  {
   "cell_type": "code",
   "execution_count": 21,
   "metadata": {},
   "outputs": [],
   "source": [
    "# Standard Libraries \n",
    "import os\n",
    "import random\n",
    "import pickle\n",
    "from typing import Dict, List\n",
    "\n",
    "# Third-Party Libraries \n",
    "import numpy as np\n",
    "import pandas as pd\n",
    "import matplotlib.pyplot as plt\n",
    "import seaborn as sns\n",
    "\n",
    "# PyTorch \n",
    "import torch\n",
    "import torch.nn as nn\n",
    "import torch.nn.functional as F\n",
    "import torch.optim as optim\n",
    "from torch.utils.data import Dataset, DataLoader\n",
    "\n",
    "# Evaluation (sklearn) \n",
    "from sklearn.metrics import (\n",
    "    accuracy_score,\n",
    "    average_precision_score,\n",
    "    classification_report,\n",
    "    confusion_matrix,\n",
    "    f1_score,\n",
    "    precision_score,\n",
    "    recall_score,\n",
    "    roc_auc_score\n",
    ")\n",
    "\n",
    "# Set device\n",
    "device = torch.device(\"cuda\" if torch.cuda.is_available() else \"cpu\")"
   ]
  },
  {
   "cell_type": "code",
   "execution_count": 22,
   "metadata": {},
   "outputs": [],
   "source": [
    "data = np.load(\"mimic_embed_data.npz\")\n",
    "train_embeddings = data[\"train_embeddings\"]\n",
    "train_labels = data[\"train_labels\"]\n",
    "valid_embeddings = data[\"valid_embeddings\"]\n",
    "valid_labels = data[\"valid_labels\"]\n",
    "test_embeddings = data[\"test_embeddings\"]\n",
    "test_labels = data[\"test_labels\"]"
   ]
  },
  {
   "cell_type": "code",
   "execution_count": 23,
   "metadata": {},
   "outputs": [],
   "source": [
    "class SingleLabelDataset(Dataset):\n",
    "    def __init__(self, embeddings, labels):\n",
    "        self.embeddings = torch.tensor(embeddings, dtype=torch.float32)\n",
    "        self.labels = torch.tensor(labels, dtype=torch.float32)\n",
    "\n",
    "    def __len__(self):\n",
    "        return len(self.embeddings)\n",
    "\n",
    "    def __getitem__(self, idx):\n",
    "        return {\n",
    "            \"embedding\": self.embeddings[idx],\n",
    "            \"lab\": self.labels[idx].unsqueeze(0)  #  shape: (1,)\n",
    "        }"
   ]
  },
  {
   "cell_type": "code",
   "execution_count": 24,
   "metadata": {},
   "outputs": [],
   "source": [
    "def get_single_label_data(embeddings, labels, label_idx):\n",
    "    mask = ~np.isnan(labels[:, label_idx])\n",
    "    return embeddings[mask], labels[mask, label_idx]"
   ]
  },
  {
   "cell_type": "code",
   "execution_count": 25,
   "metadata": {},
   "outputs": [],
   "source": [
    "class GEGLU(nn.Module):\n",
    "    def __init__(self, input_dim, output_dim):\n",
    "        super().__init__()\n",
    "        self.proj = nn.Linear(input_dim, output_dim * 2)\n",
    "\n",
    "    def forward(self, x):\n",
    "        x_proj = self.proj(x)\n",
    "        x1, x2 = x_proj.chunk(2, dim=-1)\n",
    "        return F.gelu(x1) * x2"
   ]
  },
  {
   "cell_type": "code",
   "execution_count": 27,
   "metadata": {},
   "outputs": [],
   "source": [
    "class CustomTransformerEncoderLayer(nn.Module):\n",
    "    def __init__(self, d_model, nhead, dim_feedforward=2048, dropout=0.1):\n",
    "        super().__init__()\n",
    "        self.self_attn = nn.MultiheadAttention(d_model, nhead, dropout=dropout, batch_first=True)\n",
    "\n",
    "        self.norm1 = nn.LayerNorm(d_model)\n",
    "        self.norm2 = nn.LayerNorm(d_model)\n",
    "\n",
    "        self.dropout1 = nn.Dropout(dropout)\n",
    "        self.dropout2 = nn.Dropout(dropout)\n",
    "\n",
    "        self.gelu_glu = GEGLU(d_model, dim_feedforward)\n",
    "        self.linear2 = nn.Linear(dim_feedforward, d_model)\n",
    "\n",
    "    def forward(self, src, src_mask=None, src_key_padding_mask=None, is_causal=None):\n",
    "        # Multi-head self-attention\n",
    "        src2 = self.self_attn(src, src, src, attn_mask=src_mask,\n",
    "                            key_padding_mask=src_key_padding_mask)[0]\n",
    "        src = src + self.dropout1(src2)\n",
    "        src = self.norm1(src)\n",
    "\n",
    "        # GEGLU feedforward\n",
    "        src2 = self.linear2(self.gelu_glu(src))\n",
    "        src = src + self.dropout2(src2)\n",
    "        src = self.norm2(src)\n",
    "        return src"
   ]
  },
  {
   "cell_type": "code",
   "execution_count": 28,
   "metadata": {},
   "outputs": [],
   "source": [
    "class TabTransformer(nn.Module):\n",
    "    def __init__(self, input_dim=1376, hidden_dim=128, output_dim=1, nhead=8, nlayers=4, dropout=0.1):\n",
    "        super(TabTransformer, self).__init__()\n",
    "\n",
    "        self.input_proj = nn.Linear(input_dim, hidden_dim)\n",
    "        self.norm = nn.LayerNorm(hidden_dim)\n",
    "\n",
    "        encoder_layer = CustomTransformerEncoderLayer(\n",
    "            d_model=hidden_dim,\n",
    "            nhead=nhead,\n",
    "            dim_feedforward=hidden_dim * 8,\n",
    "            dropout=dropout\n",
    "        )\n",
    "        self.encoder = nn.TransformerEncoder(encoder_layer, num_layers=nlayers)\n",
    "\n",
    "        self.classifier = nn.Linear(hidden_dim, output_dim)\n",
    "\n",
    "    def forward(self, x):\n",
    "        x = self.input_proj(x)\n",
    "        x = self.norm(x)\n",
    "        x = x.unsqueeze(1)\n",
    "        x = self.encoder(x)\n",
    "        x = x.squeeze(1)\n",
    "        return self.classifier(x)"
   ]
  },
  {
   "cell_type": "code",
   "execution_count": 29,
   "metadata": {},
   "outputs": [],
   "source": [
    "class MaskedAsymmetricLoss(nn.Module):\n",
    "    def __init__(self, gamma_pos=0, gamma_neg=4):\n",
    "        super().__init__()\n",
    "        self.gamma_pos = gamma_pos\n",
    "        self.gamma_neg = gamma_neg\n",
    "\n",
    "    def forward(self, logits, labels, mask):\n",
    "        probs = torch.sigmoid(logits)\n",
    "        # Positive loss\n",
    "        pos_loss = labels * torch.pow(1 - probs, self.gamma_pos) * torch.log(probs + 1e-8)\n",
    "        # Negative loss\n",
    "        neg_loss = (1 - labels) * torch.pow(probs, self.gamma_neg) * torch.log(1 - probs + 1e-8)\n",
    "        # Combined loss\n",
    "        loss = - (pos_loss + neg_loss)\n",
    "        # Apply mask\n",
    "        return (loss * mask).sum() / mask.sum()"
   ]
  },
  {
   "cell_type": "code",
   "execution_count": 30,
   "metadata": {},
   "outputs": [],
   "source": [
    "def train_single_label_model(train_loader, val_loader, label_name, save_path, gamma_pos, gamma_neg):\n",
    "    print(f\" Training with gamma_pos={gamma_pos}, gamma_neg={gamma_neg}\")\n",
    "    device = torch.device(\"cuda\" if torch.cuda.is_available() else \"cpu\")\n",
    "    model = TabTransformer().to(device)\n",
    "    criterion = MaskedAsymmetricLoss(gamma_pos=gamma_pos, gamma_neg=gamma_neg)\n",
    "    optimizer = torch.optim.Adam(model.parameters(), lr=1e-5)\n",
    "\n",
    "    for epoch in range(15):\n",
    "        model.train()\n",
    "        total_loss = 0\n",
    "\n",
    "        for batch in train_loader:\n",
    "            x = batch[\"embedding\"].to(device)\n",
    "            y = batch[\"lab\"].to(device).float().view(-1, 1)  # 保证 batch_size x 1\n",
    "            mask = torch.ones_like(y)\n",
    "\n",
    "            logits = model(x)\n",
    "            loss = criterion(logits, y, mask)\n",
    "\n",
    "            optimizer.zero_grad()\n",
    "            loss.backward()\n",
    "            optimizer.step()\n",
    "            total_loss += loss.item()\n",
    "\n",
    "        avg_loss = total_loss / len(train_loader)\n",
    "        print(f\"[{label_name}] Epoch {epoch+1} - Training loss: {avg_loss:.4f}\")\n",
    "\n",
    "    torch.save(model.state_dict(), save_path)\n",
    "    print(f\" Model for {label_name} saved to {save_path}\")\n",
    "\n",
    "    return model"
   ]
  },
  {
   "cell_type": "code",
   "execution_count": 31,
   "metadata": {},
   "outputs": [],
   "source": [
    "def grid_search_asl_for_label(label_index, label_name, gamma_pos_list, gamma_neg_list):\n",
    "    print(f\"\\n Grid search for label: {label_name}\")\n",
    "    \n",
    "    # Get training and validation data for the specific label\n",
    "    train_X, train_y = get_single_label_data(train_embeddings, train_labels, label_index)\n",
    "    val_X, val_y = get_single_label_data(valid_embeddings, valid_labels, label_index)\n",
    "\n",
    "    train_ds = SingleLabelDataset(train_X, train_y)\n",
    "    val_ds = SingleLabelDataset(val_X, val_y)\n",
    "    train_loader = DataLoader(train_ds, batch_size=32, shuffle=True)\n",
    "    val_loader = DataLoader(val_ds, batch_size=32, shuffle=False)\n",
    "\n",
    "    best_ap = 0\n",
    "    best_config = None\n",
    "\n",
    "    for gamma_pos in gamma_pos_list:\n",
    "        for gamma_neg in gamma_neg_list:\n",
    "            print(f\"→ gamma_pos={gamma_pos}, gamma_neg={gamma_neg}\")\n",
    "\n",
    "            # Initialize model\n",
    "            model = TabTransformer().to(device)\n",
    "            criterion = MaskedAsymmetricLoss(gamma_pos=gamma_pos, gamma_neg=gamma_neg)\n",
    "            optimizer = torch.optim.Adam(model.parameters(), lr=1e-5)\n",
    "\n",
    "            # Train for a few epochs to evaluate config\n",
    "            for epoch in range(8):\n",
    "                model.train()\n",
    "                for batch in train_loader:\n",
    "                    x = batch[\"embedding\"].to(device)\n",
    "                    y = batch[\"lab\"].to(device).float().view(-1, 1) \n",
    "                    mask = torch.ones_like(y)\n",
    "                    logits = model(x)\n",
    "                    loss = criterion(logits, y, mask)\n",
    "                    optimizer.zero_grad()\n",
    "                    loss.backward()\n",
    "                    optimizer.step()\n",
    "\n",
    "            # Evaluate on validation set using Average Precision\n",
    "            model.eval()\n",
    "            all_probs = []\n",
    "            all_labels = []\n",
    "            with torch.no_grad():\n",
    "                for batch in val_loader:\n",
    "                    x = batch[\"embedding\"].to(device)\n",
    "                    y = batch[\"lab\"].to(device).float().view(-1, 1) \n",
    "                    logits = model(x)\n",
    "                    probs = torch.sigmoid(logits).squeeze()\n",
    "                    all_probs.extend(probs.cpu().numpy())\n",
    "                    all_labels.extend(y.cpu().numpy())\n",
    "\n",
    "            ap = average_precision_score(all_labels, all_probs)\n",
    "            print(f\"    → AP={ap:.4f}\")\n",
    "\n",
    "            if ap > best_ap:\n",
    "                best_ap = ap\n",
    "                best_config = (gamma_pos, gamma_neg)\n",
    "\n",
    "    print(f\" Best config for {label_name}: gamma_pos={best_config[0]}, gamma_neg={best_config[1]} with AP={best_ap:.4f}\")\n",
    "    return best_config"
   ]
  },
  {
   "cell_type": "code",
   "execution_count": 33,
   "metadata": {},
   "outputs": [
    {
     "name": "stdout",
     "output_type": "stream",
     "text": [
      "\n",
      " Running ASL grid search for label: Enlarged Cardiomediastinum\n",
      "\n",
      " Grid search for label: Enlarged Cardiomediastinum\n",
      "→ gamma_pos=0.0, gamma_neg=3.0\n",
      "    → AP=0.5482\n",
      "→ gamma_pos=0.0, gamma_neg=4.0\n"
     ]
    },
    {
     "name": "stderr",
     "output_type": "stream",
     "text": [
      "c:\\Users\\mapei\\AppData\\Local\\Programs\\Python\\Python310\\lib\\site-packages\\torch\\nn\\modules\\transformer.py:385: UserWarning: enable_nested_tensor is True, but self.use_nested_tensor is False because encoder_layer was not TransformerEncoderLayer\n",
      "  warnings.warn(\n"
     ]
    },
    {
     "name": "stdout",
     "output_type": "stream",
     "text": [
      "    → AP=0.5519\n",
      "→ gamma_pos=0.0, gamma_neg=5.0\n"
     ]
    },
    {
     "name": "stderr",
     "output_type": "stream",
     "text": [
      "c:\\Users\\mapei\\AppData\\Local\\Programs\\Python\\Python310\\lib\\site-packages\\torch\\nn\\modules\\transformer.py:385: UserWarning: enable_nested_tensor is True, but self.use_nested_tensor is False because encoder_layer was not TransformerEncoderLayer\n",
      "  warnings.warn(\n"
     ]
    },
    {
     "name": "stdout",
     "output_type": "stream",
     "text": [
      "    → AP=0.5324\n",
      "→ gamma_pos=0.0, gamma_neg=6.0\n"
     ]
    },
    {
     "name": "stderr",
     "output_type": "stream",
     "text": [
      "c:\\Users\\mapei\\AppData\\Local\\Programs\\Python\\Python310\\lib\\site-packages\\torch\\nn\\modules\\transformer.py:385: UserWarning: enable_nested_tensor is True, but self.use_nested_tensor is False because encoder_layer was not TransformerEncoderLayer\n",
      "  warnings.warn(\n"
     ]
    },
    {
     "name": "stdout",
     "output_type": "stream",
     "text": [
      "    → AP=0.5511\n",
      "→ gamma_pos=0.5, gamma_neg=3.0\n"
     ]
    },
    {
     "name": "stderr",
     "output_type": "stream",
     "text": [
      "c:\\Users\\mapei\\AppData\\Local\\Programs\\Python\\Python310\\lib\\site-packages\\torch\\nn\\modules\\transformer.py:385: UserWarning: enable_nested_tensor is True, but self.use_nested_tensor is False because encoder_layer was not TransformerEncoderLayer\n",
      "  warnings.warn(\n"
     ]
    },
    {
     "name": "stdout",
     "output_type": "stream",
     "text": [
      "    → AP=0.5456\n",
      "→ gamma_pos=0.5, gamma_neg=4.0\n"
     ]
    },
    {
     "name": "stderr",
     "output_type": "stream",
     "text": [
      "c:\\Users\\mapei\\AppData\\Local\\Programs\\Python\\Python310\\lib\\site-packages\\torch\\nn\\modules\\transformer.py:385: UserWarning: enable_nested_tensor is True, but self.use_nested_tensor is False because encoder_layer was not TransformerEncoderLayer\n",
      "  warnings.warn(\n"
     ]
    },
    {
     "name": "stdout",
     "output_type": "stream",
     "text": [
      "    → AP=0.5536\n",
      "→ gamma_pos=0.5, gamma_neg=5.0\n"
     ]
    },
    {
     "name": "stderr",
     "output_type": "stream",
     "text": [
      "c:\\Users\\mapei\\AppData\\Local\\Programs\\Python\\Python310\\lib\\site-packages\\torch\\nn\\modules\\transformer.py:385: UserWarning: enable_nested_tensor is True, but self.use_nested_tensor is False because encoder_layer was not TransformerEncoderLayer\n",
      "  warnings.warn(\n"
     ]
    },
    {
     "name": "stdout",
     "output_type": "stream",
     "text": [
      "    → AP=0.5542\n",
      "→ gamma_pos=0.5, gamma_neg=6.0\n"
     ]
    },
    {
     "name": "stderr",
     "output_type": "stream",
     "text": [
      "c:\\Users\\mapei\\AppData\\Local\\Programs\\Python\\Python310\\lib\\site-packages\\torch\\nn\\modules\\transformer.py:385: UserWarning: enable_nested_tensor is True, but self.use_nested_tensor is False because encoder_layer was not TransformerEncoderLayer\n",
      "  warnings.warn(\n"
     ]
    },
    {
     "name": "stdout",
     "output_type": "stream",
     "text": [
      "    → AP=0.5446\n",
      " Best config for Enlarged Cardiomediastinum: gamma_pos=0.5, gamma_neg=5.0 with AP=0.5542\n",
      " Training with gamma_pos=0.5, gamma_neg=5.0\n"
     ]
    },
    {
     "name": "stderr",
     "output_type": "stream",
     "text": [
      "c:\\Users\\mapei\\AppData\\Local\\Programs\\Python\\Python310\\lib\\site-packages\\torch\\nn\\modules\\transformer.py:385: UserWarning: enable_nested_tensor is True, but self.use_nested_tensor is False because encoder_layer was not TransformerEncoderLayer\n",
      "  warnings.warn(\n"
     ]
    },
    {
     "name": "stdout",
     "output_type": "stream",
     "text": [
      "[Enlarged Cardiomediastinum] Epoch 1 - Training loss: 0.0599\n",
      "[Enlarged Cardiomediastinum] Epoch 2 - Training loss: 0.0552\n",
      "[Enlarged Cardiomediastinum] Epoch 3 - Training loss: 0.0549\n",
      "[Enlarged Cardiomediastinum] Epoch 4 - Training loss: 0.0543\n",
      "[Enlarged Cardiomediastinum] Epoch 5 - Training loss: 0.0541\n",
      "[Enlarged Cardiomediastinum] Epoch 6 - Training loss: 0.0538\n",
      "[Enlarged Cardiomediastinum] Epoch 7 - Training loss: 0.0536\n",
      "[Enlarged Cardiomediastinum] Epoch 8 - Training loss: 0.0535\n",
      "[Enlarged Cardiomediastinum] Epoch 9 - Training loss: 0.0532\n",
      "[Enlarged Cardiomediastinum] Epoch 10 - Training loss: 0.0529\n",
      "[Enlarged Cardiomediastinum] Epoch 11 - Training loss: 0.0529\n",
      "[Enlarged Cardiomediastinum] Epoch 12 - Training loss: 0.0526\n",
      "[Enlarged Cardiomediastinum] Epoch 13 - Training loss: 0.0525\n",
      "[Enlarged Cardiomediastinum] Epoch 14 - Training loss: 0.0521\n",
      "[Enlarged Cardiomediastinum] Epoch 15 - Training loss: 0.0520\n",
      " Model for Enlarged Cardiomediastinum saved to transformer_label_0_Enlarged Cardiomediastinum.pt\n",
      "\n",
      " Running ASL grid search for label: Cardiomegaly\n",
      "\n",
      " Grid search for label: Cardiomegaly\n",
      "→ gamma_pos=0.0, gamma_neg=3.0\n",
      "    → AP=0.5774\n",
      "→ gamma_pos=0.0, gamma_neg=4.0\n"
     ]
    },
    {
     "name": "stderr",
     "output_type": "stream",
     "text": [
      "c:\\Users\\mapei\\AppData\\Local\\Programs\\Python\\Python310\\lib\\site-packages\\torch\\nn\\modules\\transformer.py:385: UserWarning: enable_nested_tensor is True, but self.use_nested_tensor is False because encoder_layer was not TransformerEncoderLayer\n",
      "  warnings.warn(\n"
     ]
    },
    {
     "name": "stdout",
     "output_type": "stream",
     "text": [
      "    → AP=0.5831\n",
      "→ gamma_pos=0.0, gamma_neg=5.0\n"
     ]
    },
    {
     "name": "stderr",
     "output_type": "stream",
     "text": [
      "c:\\Users\\mapei\\AppData\\Local\\Programs\\Python\\Python310\\lib\\site-packages\\torch\\nn\\modules\\transformer.py:385: UserWarning: enable_nested_tensor is True, but self.use_nested_tensor is False because encoder_layer was not TransformerEncoderLayer\n",
      "  warnings.warn(\n"
     ]
    },
    {
     "name": "stdout",
     "output_type": "stream",
     "text": [
      "    → AP=0.5881\n",
      "→ gamma_pos=0.0, gamma_neg=6.0\n"
     ]
    },
    {
     "name": "stderr",
     "output_type": "stream",
     "text": [
      "c:\\Users\\mapei\\AppData\\Local\\Programs\\Python\\Python310\\lib\\site-packages\\torch\\nn\\modules\\transformer.py:385: UserWarning: enable_nested_tensor is True, but self.use_nested_tensor is False because encoder_layer was not TransformerEncoderLayer\n",
      "  warnings.warn(\n"
     ]
    },
    {
     "name": "stdout",
     "output_type": "stream",
     "text": [
      "    → AP=0.5776\n",
      "→ gamma_pos=0.5, gamma_neg=3.0\n"
     ]
    },
    {
     "name": "stderr",
     "output_type": "stream",
     "text": [
      "c:\\Users\\mapei\\AppData\\Local\\Programs\\Python\\Python310\\lib\\site-packages\\torch\\nn\\modules\\transformer.py:385: UserWarning: enable_nested_tensor is True, but self.use_nested_tensor is False because encoder_layer was not TransformerEncoderLayer\n",
      "  warnings.warn(\n"
     ]
    },
    {
     "name": "stdout",
     "output_type": "stream",
     "text": [
      "    → AP=0.5749\n",
      "→ gamma_pos=0.5, gamma_neg=4.0\n"
     ]
    },
    {
     "name": "stderr",
     "output_type": "stream",
     "text": [
      "c:\\Users\\mapei\\AppData\\Local\\Programs\\Python\\Python310\\lib\\site-packages\\torch\\nn\\modules\\transformer.py:385: UserWarning: enable_nested_tensor is True, but self.use_nested_tensor is False because encoder_layer was not TransformerEncoderLayer\n",
      "  warnings.warn(\n"
     ]
    },
    {
     "name": "stdout",
     "output_type": "stream",
     "text": [
      "    → AP=0.5731\n",
      "→ gamma_pos=0.5, gamma_neg=5.0\n"
     ]
    },
    {
     "name": "stderr",
     "output_type": "stream",
     "text": [
      "c:\\Users\\mapei\\AppData\\Local\\Programs\\Python\\Python310\\lib\\site-packages\\torch\\nn\\modules\\transformer.py:385: UserWarning: enable_nested_tensor is True, but self.use_nested_tensor is False because encoder_layer was not TransformerEncoderLayer\n",
      "  warnings.warn(\n"
     ]
    },
    {
     "name": "stdout",
     "output_type": "stream",
     "text": [
      "    → AP=0.5790\n",
      "→ gamma_pos=0.5, gamma_neg=6.0\n"
     ]
    },
    {
     "name": "stderr",
     "output_type": "stream",
     "text": [
      "c:\\Users\\mapei\\AppData\\Local\\Programs\\Python\\Python310\\lib\\site-packages\\torch\\nn\\modules\\transformer.py:385: UserWarning: enable_nested_tensor is True, but self.use_nested_tensor is False because encoder_layer was not TransformerEncoderLayer\n",
      "  warnings.warn(\n"
     ]
    },
    {
     "name": "stdout",
     "output_type": "stream",
     "text": [
      "    → AP=0.5619\n",
      " Best config for Cardiomegaly: gamma_pos=0.0, gamma_neg=5.0 with AP=0.5881\n",
      " Training with gamma_pos=0.0, gamma_neg=5.0\n"
     ]
    },
    {
     "name": "stderr",
     "output_type": "stream",
     "text": [
      "c:\\Users\\mapei\\AppData\\Local\\Programs\\Python\\Python310\\lib\\site-packages\\torch\\nn\\modules\\transformer.py:385: UserWarning: enable_nested_tensor is True, but self.use_nested_tensor is False because encoder_layer was not TransformerEncoderLayer\n",
      "  warnings.warn(\n"
     ]
    },
    {
     "name": "stdout",
     "output_type": "stream",
     "text": [
      "[Cardiomegaly] Epoch 1 - Training loss: 0.0737\n",
      "[Cardiomegaly] Epoch 2 - Training loss: 0.0691\n",
      "[Cardiomegaly] Epoch 3 - Training loss: 0.0683\n",
      "[Cardiomegaly] Epoch 4 - Training loss: 0.0679\n",
      "[Cardiomegaly] Epoch 5 - Training loss: 0.0676\n",
      "[Cardiomegaly] Epoch 6 - Training loss: 0.0673\n",
      "[Cardiomegaly] Epoch 7 - Training loss: 0.0670\n",
      "[Cardiomegaly] Epoch 8 - Training loss: 0.0669\n",
      "[Cardiomegaly] Epoch 9 - Training loss: 0.0666\n",
      "[Cardiomegaly] Epoch 10 - Training loss: 0.0666\n",
      "[Cardiomegaly] Epoch 11 - Training loss: 0.0662\n",
      "[Cardiomegaly] Epoch 12 - Training loss: 0.0661\n",
      "[Cardiomegaly] Epoch 13 - Training loss: 0.0654\n",
      "[Cardiomegaly] Epoch 14 - Training loss: 0.0652\n",
      "[Cardiomegaly] Epoch 15 - Training loss: 0.0648\n",
      " Model for Cardiomegaly saved to transformer_label_1_Cardiomegaly.pt\n",
      "\n",
      " Running ASL grid search for label: Lung Opacity\n",
      "\n",
      " Grid search for label: Lung Opacity\n",
      "→ gamma_pos=0.0, gamma_neg=3.0\n",
      "    → AP=0.4178\n",
      "→ gamma_pos=0.0, gamma_neg=4.0\n"
     ]
    },
    {
     "name": "stderr",
     "output_type": "stream",
     "text": [
      "c:\\Users\\mapei\\AppData\\Local\\Programs\\Python\\Python310\\lib\\site-packages\\torch\\nn\\modules\\transformer.py:385: UserWarning: enable_nested_tensor is True, but self.use_nested_tensor is False because encoder_layer was not TransformerEncoderLayer\n",
      "  warnings.warn(\n"
     ]
    },
    {
     "name": "stdout",
     "output_type": "stream",
     "text": [
      "    → AP=0.3931\n",
      "→ gamma_pos=0.0, gamma_neg=5.0\n"
     ]
    },
    {
     "name": "stderr",
     "output_type": "stream",
     "text": [
      "c:\\Users\\mapei\\AppData\\Local\\Programs\\Python\\Python310\\lib\\site-packages\\torch\\nn\\modules\\transformer.py:385: UserWarning: enable_nested_tensor is True, but self.use_nested_tensor is False because encoder_layer was not TransformerEncoderLayer\n",
      "  warnings.warn(\n"
     ]
    },
    {
     "name": "stdout",
     "output_type": "stream",
     "text": [
      "    → AP=0.4259\n",
      "→ gamma_pos=0.0, gamma_neg=6.0\n"
     ]
    },
    {
     "name": "stderr",
     "output_type": "stream",
     "text": [
      "c:\\Users\\mapei\\AppData\\Local\\Programs\\Python\\Python310\\lib\\site-packages\\torch\\nn\\modules\\transformer.py:385: UserWarning: enable_nested_tensor is True, but self.use_nested_tensor is False because encoder_layer was not TransformerEncoderLayer\n",
      "  warnings.warn(\n"
     ]
    },
    {
     "name": "stdout",
     "output_type": "stream",
     "text": [
      "    → AP=0.3852\n",
      "→ gamma_pos=0.5, gamma_neg=3.0\n"
     ]
    },
    {
     "name": "stderr",
     "output_type": "stream",
     "text": [
      "c:\\Users\\mapei\\AppData\\Local\\Programs\\Python\\Python310\\lib\\site-packages\\torch\\nn\\modules\\transformer.py:385: UserWarning: enable_nested_tensor is True, but self.use_nested_tensor is False because encoder_layer was not TransformerEncoderLayer\n",
      "  warnings.warn(\n"
     ]
    },
    {
     "name": "stdout",
     "output_type": "stream",
     "text": [
      "    → AP=0.4095\n",
      "→ gamma_pos=0.5, gamma_neg=4.0\n"
     ]
    },
    {
     "name": "stderr",
     "output_type": "stream",
     "text": [
      "c:\\Users\\mapei\\AppData\\Local\\Programs\\Python\\Python310\\lib\\site-packages\\torch\\nn\\modules\\transformer.py:385: UserWarning: enable_nested_tensor is True, but self.use_nested_tensor is False because encoder_layer was not TransformerEncoderLayer\n",
      "  warnings.warn(\n"
     ]
    },
    {
     "name": "stdout",
     "output_type": "stream",
     "text": [
      "    → AP=0.4049\n",
      "→ gamma_pos=0.5, gamma_neg=5.0\n"
     ]
    },
    {
     "name": "stderr",
     "output_type": "stream",
     "text": [
      "c:\\Users\\mapei\\AppData\\Local\\Programs\\Python\\Python310\\lib\\site-packages\\torch\\nn\\modules\\transformer.py:385: UserWarning: enable_nested_tensor is True, but self.use_nested_tensor is False because encoder_layer was not TransformerEncoderLayer\n",
      "  warnings.warn(\n"
     ]
    },
    {
     "name": "stdout",
     "output_type": "stream",
     "text": [
      "    → AP=0.3885\n",
      "→ gamma_pos=0.5, gamma_neg=6.0\n"
     ]
    },
    {
     "name": "stderr",
     "output_type": "stream",
     "text": [
      "c:\\Users\\mapei\\AppData\\Local\\Programs\\Python\\Python310\\lib\\site-packages\\torch\\nn\\modules\\transformer.py:385: UserWarning: enable_nested_tensor is True, but self.use_nested_tensor is False because encoder_layer was not TransformerEncoderLayer\n",
      "  warnings.warn(\n"
     ]
    },
    {
     "name": "stdout",
     "output_type": "stream",
     "text": [
      "    → AP=0.3958\n",
      " Best config for Lung Opacity: gamma_pos=0.0, gamma_neg=5.0 with AP=0.4259\n",
      " Training with gamma_pos=0.0, gamma_neg=5.0\n"
     ]
    },
    {
     "name": "stderr",
     "output_type": "stream",
     "text": [
      "c:\\Users\\mapei\\AppData\\Local\\Programs\\Python\\Python310\\lib\\site-packages\\torch\\nn\\modules\\transformer.py:385: UserWarning: enable_nested_tensor is True, but self.use_nested_tensor is False because encoder_layer was not TransformerEncoderLayer\n",
      "  warnings.warn(\n"
     ]
    },
    {
     "name": "stdout",
     "output_type": "stream",
     "text": [
      "[Lung Opacity] Epoch 1 - Training loss: 0.0235\n",
      "[Lung Opacity] Epoch 2 - Training loss: 0.0214\n",
      "[Lung Opacity] Epoch 3 - Training loss: 0.0210\n",
      "[Lung Opacity] Epoch 4 - Training loss: 0.0208\n",
      "[Lung Opacity] Epoch 5 - Training loss: 0.0207\n",
      "[Lung Opacity] Epoch 6 - Training loss: 0.0206\n",
      "[Lung Opacity] Epoch 7 - Training loss: 0.0204\n",
      "[Lung Opacity] Epoch 8 - Training loss: 0.0204\n",
      "[Lung Opacity] Epoch 9 - Training loss: 0.0202\n",
      "[Lung Opacity] Epoch 10 - Training loss: 0.0200\n",
      "[Lung Opacity] Epoch 11 - Training loss: 0.0199\n",
      "[Lung Opacity] Epoch 12 - Training loss: 0.0198\n",
      "[Lung Opacity] Epoch 13 - Training loss: 0.0195\n",
      "[Lung Opacity] Epoch 14 - Training loss: 0.0193\n",
      "[Lung Opacity] Epoch 15 - Training loss: 0.0189\n",
      " Model for Lung Opacity saved to transformer_label_2_Lung Opacity.pt\n",
      "\n",
      " Running ASL grid search for label: Lung Lesion\n",
      "\n",
      " Grid search for label: Lung Lesion\n",
      "→ gamma_pos=0.0, gamma_neg=3.0\n",
      "    → AP=0.4177\n",
      "→ gamma_pos=0.0, gamma_neg=4.0\n"
     ]
    },
    {
     "name": "stderr",
     "output_type": "stream",
     "text": [
      "c:\\Users\\mapei\\AppData\\Local\\Programs\\Python\\Python310\\lib\\site-packages\\torch\\nn\\modules\\transformer.py:385: UserWarning: enable_nested_tensor is True, but self.use_nested_tensor is False because encoder_layer was not TransformerEncoderLayer\n",
      "  warnings.warn(\n"
     ]
    },
    {
     "name": "stdout",
     "output_type": "stream",
     "text": [
      "    → AP=0.4234\n",
      "→ gamma_pos=0.0, gamma_neg=5.0\n"
     ]
    },
    {
     "name": "stderr",
     "output_type": "stream",
     "text": [
      "c:\\Users\\mapei\\AppData\\Local\\Programs\\Python\\Python310\\lib\\site-packages\\torch\\nn\\modules\\transformer.py:385: UserWarning: enable_nested_tensor is True, but self.use_nested_tensor is False because encoder_layer was not TransformerEncoderLayer\n",
      "  warnings.warn(\n"
     ]
    },
    {
     "name": "stdout",
     "output_type": "stream",
     "text": [
      "    → AP=0.4482\n",
      "→ gamma_pos=0.0, gamma_neg=6.0\n"
     ]
    },
    {
     "name": "stderr",
     "output_type": "stream",
     "text": [
      "c:\\Users\\mapei\\AppData\\Local\\Programs\\Python\\Python310\\lib\\site-packages\\torch\\nn\\modules\\transformer.py:385: UserWarning: enable_nested_tensor is True, but self.use_nested_tensor is False because encoder_layer was not TransformerEncoderLayer\n",
      "  warnings.warn(\n"
     ]
    },
    {
     "name": "stdout",
     "output_type": "stream",
     "text": [
      "    → AP=0.4167\n",
      "→ gamma_pos=0.5, gamma_neg=3.0\n"
     ]
    },
    {
     "name": "stderr",
     "output_type": "stream",
     "text": [
      "c:\\Users\\mapei\\AppData\\Local\\Programs\\Python\\Python310\\lib\\site-packages\\torch\\nn\\modules\\transformer.py:385: UserWarning: enable_nested_tensor is True, but self.use_nested_tensor is False because encoder_layer was not TransformerEncoderLayer\n",
      "  warnings.warn(\n"
     ]
    },
    {
     "name": "stdout",
     "output_type": "stream",
     "text": [
      "    → AP=0.4260\n",
      "→ gamma_pos=0.5, gamma_neg=4.0\n"
     ]
    },
    {
     "name": "stderr",
     "output_type": "stream",
     "text": [
      "c:\\Users\\mapei\\AppData\\Local\\Programs\\Python\\Python310\\lib\\site-packages\\torch\\nn\\modules\\transformer.py:385: UserWarning: enable_nested_tensor is True, but self.use_nested_tensor is False because encoder_layer was not TransformerEncoderLayer\n",
      "  warnings.warn(\n"
     ]
    },
    {
     "name": "stdout",
     "output_type": "stream",
     "text": [
      "    → AP=0.4265\n",
      "→ gamma_pos=0.5, gamma_neg=5.0\n"
     ]
    },
    {
     "name": "stderr",
     "output_type": "stream",
     "text": [
      "c:\\Users\\mapei\\AppData\\Local\\Programs\\Python\\Python310\\lib\\site-packages\\torch\\nn\\modules\\transformer.py:385: UserWarning: enable_nested_tensor is True, but self.use_nested_tensor is False because encoder_layer was not TransformerEncoderLayer\n",
      "  warnings.warn(\n"
     ]
    },
    {
     "name": "stdout",
     "output_type": "stream",
     "text": [
      "    → AP=0.4275\n",
      "→ gamma_pos=0.5, gamma_neg=6.0\n"
     ]
    },
    {
     "name": "stderr",
     "output_type": "stream",
     "text": [
      "c:\\Users\\mapei\\AppData\\Local\\Programs\\Python\\Python310\\lib\\site-packages\\torch\\nn\\modules\\transformer.py:385: UserWarning: enable_nested_tensor is True, but self.use_nested_tensor is False because encoder_layer was not TransformerEncoderLayer\n",
      "  warnings.warn(\n"
     ]
    },
    {
     "name": "stdout",
     "output_type": "stream",
     "text": [
      "    → AP=0.4226\n",
      " Best config for Lung Lesion: gamma_pos=0.0, gamma_neg=5.0 with AP=0.4482\n",
      " Training with gamma_pos=0.0, gamma_neg=5.0\n"
     ]
    },
    {
     "name": "stderr",
     "output_type": "stream",
     "text": [
      "c:\\Users\\mapei\\AppData\\Local\\Programs\\Python\\Python310\\lib\\site-packages\\torch\\nn\\modules\\transformer.py:385: UserWarning: enable_nested_tensor is True, but self.use_nested_tensor is False because encoder_layer was not TransformerEncoderLayer\n",
      "  warnings.warn(\n"
     ]
    },
    {
     "name": "stdout",
     "output_type": "stream",
     "text": [
      "[Lung Lesion] Epoch 1 - Training loss: 0.0266\n",
      "[Lung Lesion] Epoch 2 - Training loss: 0.0244\n",
      "[Lung Lesion] Epoch 3 - Training loss: 0.0241\n",
      "[Lung Lesion] Epoch 4 - Training loss: 0.0238\n",
      "[Lung Lesion] Epoch 5 - Training loss: 0.0237\n",
      "[Lung Lesion] Epoch 6 - Training loss: 0.0233\n",
      "[Lung Lesion] Epoch 7 - Training loss: 0.0232\n",
      "[Lung Lesion] Epoch 8 - Training loss: 0.0231\n",
      "[Lung Lesion] Epoch 9 - Training loss: 0.0229\n",
      "[Lung Lesion] Epoch 10 - Training loss: 0.0227\n",
      "[Lung Lesion] Epoch 11 - Training loss: 0.0225\n",
      "[Lung Lesion] Epoch 12 - Training loss: 0.0222\n",
      "[Lung Lesion] Epoch 13 - Training loss: 0.0219\n",
      "[Lung Lesion] Epoch 14 - Training loss: 0.0217\n",
      "[Lung Lesion] Epoch 15 - Training loss: 0.0213\n",
      " Model for Lung Lesion saved to transformer_label_3_Lung Lesion.pt\n",
      "\n",
      " Running ASL grid search for label: Edema\n",
      "\n",
      " Grid search for label: Edema\n",
      "→ gamma_pos=0.0, gamma_neg=3.0\n",
      "    → AP=0.2197\n",
      "→ gamma_pos=0.0, gamma_neg=4.0\n"
     ]
    },
    {
     "name": "stderr",
     "output_type": "stream",
     "text": [
      "c:\\Users\\mapei\\AppData\\Local\\Programs\\Python\\Python310\\lib\\site-packages\\torch\\nn\\modules\\transformer.py:385: UserWarning: enable_nested_tensor is True, but self.use_nested_tensor is False because encoder_layer was not TransformerEncoderLayer\n",
      "  warnings.warn(\n"
     ]
    },
    {
     "name": "stdout",
     "output_type": "stream",
     "text": [
      "    → AP=0.2233\n",
      "→ gamma_pos=0.0, gamma_neg=5.0\n"
     ]
    },
    {
     "name": "stderr",
     "output_type": "stream",
     "text": [
      "c:\\Users\\mapei\\AppData\\Local\\Programs\\Python\\Python310\\lib\\site-packages\\torch\\nn\\modules\\transformer.py:385: UserWarning: enable_nested_tensor is True, but self.use_nested_tensor is False because encoder_layer was not TransformerEncoderLayer\n",
      "  warnings.warn(\n"
     ]
    },
    {
     "name": "stdout",
     "output_type": "stream",
     "text": [
      "    → AP=0.1992\n",
      "→ gamma_pos=0.0, gamma_neg=6.0\n"
     ]
    },
    {
     "name": "stderr",
     "output_type": "stream",
     "text": [
      "c:\\Users\\mapei\\AppData\\Local\\Programs\\Python\\Python310\\lib\\site-packages\\torch\\nn\\modules\\transformer.py:385: UserWarning: enable_nested_tensor is True, but self.use_nested_tensor is False because encoder_layer was not TransformerEncoderLayer\n",
      "  warnings.warn(\n"
     ]
    },
    {
     "name": "stdout",
     "output_type": "stream",
     "text": [
      "    → AP=0.2071\n",
      "→ gamma_pos=0.5, gamma_neg=3.0\n"
     ]
    },
    {
     "name": "stderr",
     "output_type": "stream",
     "text": [
      "c:\\Users\\mapei\\AppData\\Local\\Programs\\Python\\Python310\\lib\\site-packages\\torch\\nn\\modules\\transformer.py:385: UserWarning: enable_nested_tensor is True, but self.use_nested_tensor is False because encoder_layer was not TransformerEncoderLayer\n",
      "  warnings.warn(\n"
     ]
    },
    {
     "name": "stdout",
     "output_type": "stream",
     "text": [
      "    → AP=0.2348\n",
      "→ gamma_pos=0.5, gamma_neg=4.0\n"
     ]
    },
    {
     "name": "stderr",
     "output_type": "stream",
     "text": [
      "c:\\Users\\mapei\\AppData\\Local\\Programs\\Python\\Python310\\lib\\site-packages\\torch\\nn\\modules\\transformer.py:385: UserWarning: enable_nested_tensor is True, but self.use_nested_tensor is False because encoder_layer was not TransformerEncoderLayer\n",
      "  warnings.warn(\n"
     ]
    },
    {
     "name": "stdout",
     "output_type": "stream",
     "text": [
      "    → AP=0.2202\n",
      "→ gamma_pos=0.5, gamma_neg=5.0\n"
     ]
    },
    {
     "name": "stderr",
     "output_type": "stream",
     "text": [
      "c:\\Users\\mapei\\AppData\\Local\\Programs\\Python\\Python310\\lib\\site-packages\\torch\\nn\\modules\\transformer.py:385: UserWarning: enable_nested_tensor is True, but self.use_nested_tensor is False because encoder_layer was not TransformerEncoderLayer\n",
      "  warnings.warn(\n"
     ]
    },
    {
     "name": "stdout",
     "output_type": "stream",
     "text": [
      "    → AP=0.2132\n",
      "→ gamma_pos=0.5, gamma_neg=6.0\n"
     ]
    },
    {
     "name": "stderr",
     "output_type": "stream",
     "text": [
      "c:\\Users\\mapei\\AppData\\Local\\Programs\\Python\\Python310\\lib\\site-packages\\torch\\nn\\modules\\transformer.py:385: UserWarning: enable_nested_tensor is True, but self.use_nested_tensor is False because encoder_layer was not TransformerEncoderLayer\n",
      "  warnings.warn(\n"
     ]
    },
    {
     "name": "stdout",
     "output_type": "stream",
     "text": [
      "    → AP=0.2336\n",
      " Best config for Edema: gamma_pos=0.5, gamma_neg=3.0 with AP=0.2348\n",
      " Training with gamma_pos=0.5, gamma_neg=3.0\n"
     ]
    },
    {
     "name": "stderr",
     "output_type": "stream",
     "text": [
      "c:\\Users\\mapei\\AppData\\Local\\Programs\\Python\\Python310\\lib\\site-packages\\torch\\nn\\modules\\transformer.py:385: UserWarning: enable_nested_tensor is True, but self.use_nested_tensor is False because encoder_layer was not TransformerEncoderLayer\n",
      "  warnings.warn(\n"
     ]
    },
    {
     "name": "stdout",
     "output_type": "stream",
     "text": [
      "[Edema] Epoch 1 - Training loss: 0.0262\n",
      "[Edema] Epoch 2 - Training loss: 0.0250\n",
      "[Edema] Epoch 3 - Training loss: 0.0248\n",
      "[Edema] Epoch 4 - Training loss: 0.0245\n",
      "[Edema] Epoch 5 - Training loss: 0.0244\n",
      "[Edema] Epoch 6 - Training loss: 0.0241\n",
      "[Edema] Epoch 7 - Training loss: 0.0242\n",
      "[Edema] Epoch 8 - Training loss: 0.0238\n",
      "[Edema] Epoch 9 - Training loss: 0.0236\n",
      "[Edema] Epoch 10 - Training loss: 0.0231\n",
      "[Edema] Epoch 11 - Training loss: 0.0230\n",
      "[Edema] Epoch 12 - Training loss: 0.0226\n",
      "[Edema] Epoch 13 - Training loss: 0.0224\n",
      "[Edema] Epoch 14 - Training loss: 0.0218\n",
      "[Edema] Epoch 15 - Training loss: 0.0215\n",
      " Model for Edema saved to transformer_label_4_Edema.pt\n",
      "\n",
      " Running ASL grid search for label: Consolidation\n",
      "\n",
      " Grid search for label: Consolidation\n",
      "→ gamma_pos=0.0, gamma_neg=3.0\n",
      "    → AP=0.1482\n",
      "→ gamma_pos=0.0, gamma_neg=4.0\n"
     ]
    },
    {
     "name": "stderr",
     "output_type": "stream",
     "text": [
      "c:\\Users\\mapei\\AppData\\Local\\Programs\\Python\\Python310\\lib\\site-packages\\torch\\nn\\modules\\transformer.py:385: UserWarning: enable_nested_tensor is True, but self.use_nested_tensor is False because encoder_layer was not TransformerEncoderLayer\n",
      "  warnings.warn(\n"
     ]
    },
    {
     "name": "stdout",
     "output_type": "stream",
     "text": [
      "    → AP=0.1435\n",
      "→ gamma_pos=0.0, gamma_neg=5.0\n"
     ]
    },
    {
     "name": "stderr",
     "output_type": "stream",
     "text": [
      "c:\\Users\\mapei\\AppData\\Local\\Programs\\Python\\Python310\\lib\\site-packages\\torch\\nn\\modules\\transformer.py:385: UserWarning: enable_nested_tensor is True, but self.use_nested_tensor is False because encoder_layer was not TransformerEncoderLayer\n",
      "  warnings.warn(\n"
     ]
    },
    {
     "name": "stdout",
     "output_type": "stream",
     "text": [
      "    → AP=0.1464\n",
      "→ gamma_pos=0.0, gamma_neg=6.0\n"
     ]
    },
    {
     "name": "stderr",
     "output_type": "stream",
     "text": [
      "c:\\Users\\mapei\\AppData\\Local\\Programs\\Python\\Python310\\lib\\site-packages\\torch\\nn\\modules\\transformer.py:385: UserWarning: enable_nested_tensor is True, but self.use_nested_tensor is False because encoder_layer was not TransformerEncoderLayer\n",
      "  warnings.warn(\n"
     ]
    },
    {
     "name": "stdout",
     "output_type": "stream",
     "text": [
      "    → AP=0.1511\n",
      "→ gamma_pos=0.5, gamma_neg=3.0\n"
     ]
    },
    {
     "name": "stderr",
     "output_type": "stream",
     "text": [
      "c:\\Users\\mapei\\AppData\\Local\\Programs\\Python\\Python310\\lib\\site-packages\\torch\\nn\\modules\\transformer.py:385: UserWarning: enable_nested_tensor is True, but self.use_nested_tensor is False because encoder_layer was not TransformerEncoderLayer\n",
      "  warnings.warn(\n"
     ]
    },
    {
     "name": "stdout",
     "output_type": "stream",
     "text": [
      "    → AP=0.1480\n",
      "→ gamma_pos=0.5, gamma_neg=4.0\n"
     ]
    },
    {
     "name": "stderr",
     "output_type": "stream",
     "text": [
      "c:\\Users\\mapei\\AppData\\Local\\Programs\\Python\\Python310\\lib\\site-packages\\torch\\nn\\modules\\transformer.py:385: UserWarning: enable_nested_tensor is True, but self.use_nested_tensor is False because encoder_layer was not TransformerEncoderLayer\n",
      "  warnings.warn(\n"
     ]
    },
    {
     "name": "stdout",
     "output_type": "stream",
     "text": [
      "    → AP=0.1363\n",
      "→ gamma_pos=0.5, gamma_neg=5.0\n"
     ]
    },
    {
     "name": "stderr",
     "output_type": "stream",
     "text": [
      "c:\\Users\\mapei\\AppData\\Local\\Programs\\Python\\Python310\\lib\\site-packages\\torch\\nn\\modules\\transformer.py:385: UserWarning: enable_nested_tensor is True, but self.use_nested_tensor is False because encoder_layer was not TransformerEncoderLayer\n",
      "  warnings.warn(\n"
     ]
    },
    {
     "name": "stdout",
     "output_type": "stream",
     "text": [
      "    → AP=0.1473\n",
      "→ gamma_pos=0.5, gamma_neg=6.0\n"
     ]
    },
    {
     "name": "stderr",
     "output_type": "stream",
     "text": [
      "c:\\Users\\mapei\\AppData\\Local\\Programs\\Python\\Python310\\lib\\site-packages\\torch\\nn\\modules\\transformer.py:385: UserWarning: enable_nested_tensor is True, but self.use_nested_tensor is False because encoder_layer was not TransformerEncoderLayer\n",
      "  warnings.warn(\n"
     ]
    },
    {
     "name": "stdout",
     "output_type": "stream",
     "text": [
      "    → AP=0.1445\n",
      " Best config for Consolidation: gamma_pos=0.0, gamma_neg=6.0 with AP=0.1511\n",
      " Training with gamma_pos=0.0, gamma_neg=6.0\n"
     ]
    },
    {
     "name": "stderr",
     "output_type": "stream",
     "text": [
      "c:\\Users\\mapei\\AppData\\Local\\Programs\\Python\\Python310\\lib\\site-packages\\torch\\nn\\modules\\transformer.py:385: UserWarning: enable_nested_tensor is True, but self.use_nested_tensor is False because encoder_layer was not TransformerEncoderLayer\n",
      "  warnings.warn(\n"
     ]
    },
    {
     "name": "stdout",
     "output_type": "stream",
     "text": [
      "[Consolidation] Epoch 1 - Training loss: 0.0283\n",
      "[Consolidation] Epoch 2 - Training loss: 0.0274\n",
      "[Consolidation] Epoch 3 - Training loss: 0.0272\n",
      "[Consolidation] Epoch 4 - Training loss: 0.0270\n",
      "[Consolidation] Epoch 5 - Training loss: 0.0267\n",
      "[Consolidation] Epoch 6 - Training loss: 0.0266\n",
      "[Consolidation] Epoch 7 - Training loss: 0.0263\n",
      "[Consolidation] Epoch 8 - Training loss: 0.0263\n",
      "[Consolidation] Epoch 9 - Training loss: 0.0260\n",
      "[Consolidation] Epoch 10 - Training loss: 0.0258\n",
      "[Consolidation] Epoch 11 - Training loss: 0.0254\n",
      "[Consolidation] Epoch 12 - Training loss: 0.0254\n",
      "[Consolidation] Epoch 13 - Training loss: 0.0251\n",
      "[Consolidation] Epoch 14 - Training loss: 0.0249\n",
      "[Consolidation] Epoch 15 - Training loss: 0.0248\n",
      " Model for Consolidation saved to transformer_label_5_Consolidation.pt\n",
      "\n",
      " Running ASL grid search for label: Pneumonia\n",
      "\n",
      " Grid search for label: Pneumonia\n",
      "→ gamma_pos=0.0, gamma_neg=3.0\n",
      "    → AP=0.3704\n",
      "→ gamma_pos=0.0, gamma_neg=4.0\n"
     ]
    },
    {
     "name": "stderr",
     "output_type": "stream",
     "text": [
      "c:\\Users\\mapei\\AppData\\Local\\Programs\\Python\\Python310\\lib\\site-packages\\torch\\nn\\modules\\transformer.py:385: UserWarning: enable_nested_tensor is True, but self.use_nested_tensor is False because encoder_layer was not TransformerEncoderLayer\n",
      "  warnings.warn(\n"
     ]
    },
    {
     "name": "stdout",
     "output_type": "stream",
     "text": [
      "    → AP=0.3642\n",
      "→ gamma_pos=0.0, gamma_neg=5.0\n"
     ]
    },
    {
     "name": "stderr",
     "output_type": "stream",
     "text": [
      "c:\\Users\\mapei\\AppData\\Local\\Programs\\Python\\Python310\\lib\\site-packages\\torch\\nn\\modules\\transformer.py:385: UserWarning: enable_nested_tensor is True, but self.use_nested_tensor is False because encoder_layer was not TransformerEncoderLayer\n",
      "  warnings.warn(\n"
     ]
    },
    {
     "name": "stdout",
     "output_type": "stream",
     "text": [
      "    → AP=0.3840\n",
      "→ gamma_pos=0.0, gamma_neg=6.0\n"
     ]
    },
    {
     "name": "stderr",
     "output_type": "stream",
     "text": [
      "c:\\Users\\mapei\\AppData\\Local\\Programs\\Python\\Python310\\lib\\site-packages\\torch\\nn\\modules\\transformer.py:385: UserWarning: enable_nested_tensor is True, but self.use_nested_tensor is False because encoder_layer was not TransformerEncoderLayer\n",
      "  warnings.warn(\n"
     ]
    },
    {
     "name": "stdout",
     "output_type": "stream",
     "text": [
      "    → AP=0.3712\n",
      "→ gamma_pos=0.5, gamma_neg=3.0\n"
     ]
    },
    {
     "name": "stderr",
     "output_type": "stream",
     "text": [
      "c:\\Users\\mapei\\AppData\\Local\\Programs\\Python\\Python310\\lib\\site-packages\\torch\\nn\\modules\\transformer.py:385: UserWarning: enable_nested_tensor is True, but self.use_nested_tensor is False because encoder_layer was not TransformerEncoderLayer\n",
      "  warnings.warn(\n"
     ]
    },
    {
     "name": "stdout",
     "output_type": "stream",
     "text": [
      "    → AP=0.3805\n",
      "→ gamma_pos=0.5, gamma_neg=4.0\n"
     ]
    },
    {
     "name": "stderr",
     "output_type": "stream",
     "text": [
      "c:\\Users\\mapei\\AppData\\Local\\Programs\\Python\\Python310\\lib\\site-packages\\torch\\nn\\modules\\transformer.py:385: UserWarning: enable_nested_tensor is True, but self.use_nested_tensor is False because encoder_layer was not TransformerEncoderLayer\n",
      "  warnings.warn(\n"
     ]
    },
    {
     "name": "stdout",
     "output_type": "stream",
     "text": [
      "    → AP=0.3693\n",
      "→ gamma_pos=0.5, gamma_neg=5.0\n"
     ]
    },
    {
     "name": "stderr",
     "output_type": "stream",
     "text": [
      "c:\\Users\\mapei\\AppData\\Local\\Programs\\Python\\Python310\\lib\\site-packages\\torch\\nn\\modules\\transformer.py:385: UserWarning: enable_nested_tensor is True, but self.use_nested_tensor is False because encoder_layer was not TransformerEncoderLayer\n",
      "  warnings.warn(\n"
     ]
    },
    {
     "name": "stdout",
     "output_type": "stream",
     "text": [
      "    → AP=0.3842\n",
      "→ gamma_pos=0.5, gamma_neg=6.0\n"
     ]
    },
    {
     "name": "stderr",
     "output_type": "stream",
     "text": [
      "c:\\Users\\mapei\\AppData\\Local\\Programs\\Python\\Python310\\lib\\site-packages\\torch\\nn\\modules\\transformer.py:385: UserWarning: enable_nested_tensor is True, but self.use_nested_tensor is False because encoder_layer was not TransformerEncoderLayer\n",
      "  warnings.warn(\n"
     ]
    },
    {
     "name": "stdout",
     "output_type": "stream",
     "text": [
      "    → AP=0.3871\n",
      " Best config for Pneumonia: gamma_pos=0.5, gamma_neg=6.0 with AP=0.3871\n",
      " Training with gamma_pos=0.5, gamma_neg=6.0\n"
     ]
    },
    {
     "name": "stderr",
     "output_type": "stream",
     "text": [
      "c:\\Users\\mapei\\AppData\\Local\\Programs\\Python\\Python310\\lib\\site-packages\\torch\\nn\\modules\\transformer.py:385: UserWarning: enable_nested_tensor is True, but self.use_nested_tensor is False because encoder_layer was not TransformerEncoderLayer\n",
      "  warnings.warn(\n"
     ]
    },
    {
     "name": "stdout",
     "output_type": "stream",
     "text": [
      "[Pneumonia] Epoch 1 - Training loss: 0.0243\n",
      "[Pneumonia] Epoch 2 - Training loss: 0.0233\n",
      "[Pneumonia] Epoch 3 - Training loss: 0.0230\n",
      "[Pneumonia] Epoch 4 - Training loss: 0.0229\n",
      "[Pneumonia] Epoch 5 - Training loss: 0.0227\n",
      "[Pneumonia] Epoch 6 - Training loss: 0.0225\n",
      "[Pneumonia] Epoch 7 - Training loss: 0.0226\n",
      "[Pneumonia] Epoch 8 - Training loss: 0.0223\n",
      "[Pneumonia] Epoch 9 - Training loss: 0.0221\n",
      "[Pneumonia] Epoch 10 - Training loss: 0.0219\n",
      "[Pneumonia] Epoch 11 - Training loss: 0.0219\n",
      "[Pneumonia] Epoch 12 - Training loss: 0.0218\n",
      "[Pneumonia] Epoch 13 - Training loss: 0.0215\n",
      "[Pneumonia] Epoch 14 - Training loss: 0.0213\n",
      "[Pneumonia] Epoch 15 - Training loss: 0.0210\n",
      " Model for Pneumonia saved to transformer_label_6_Pneumonia.pt\n",
      "\n",
      " Running ASL grid search for label: Atelectasis\n",
      "\n",
      " Grid search for label: Atelectasis\n",
      "→ gamma_pos=0.0, gamma_neg=3.0\n",
      "    → AP=0.5435\n",
      "→ gamma_pos=0.0, gamma_neg=4.0\n"
     ]
    },
    {
     "name": "stderr",
     "output_type": "stream",
     "text": [
      "c:\\Users\\mapei\\AppData\\Local\\Programs\\Python\\Python310\\lib\\site-packages\\torch\\nn\\modules\\transformer.py:385: UserWarning: enable_nested_tensor is True, but self.use_nested_tensor is False because encoder_layer was not TransformerEncoderLayer\n",
      "  warnings.warn(\n"
     ]
    },
    {
     "name": "stdout",
     "output_type": "stream",
     "text": [
      "    → AP=0.5456\n",
      "→ gamma_pos=0.0, gamma_neg=5.0\n"
     ]
    },
    {
     "name": "stderr",
     "output_type": "stream",
     "text": [
      "c:\\Users\\mapei\\AppData\\Local\\Programs\\Python\\Python310\\lib\\site-packages\\torch\\nn\\modules\\transformer.py:385: UserWarning: enable_nested_tensor is True, but self.use_nested_tensor is False because encoder_layer was not TransformerEncoderLayer\n",
      "  warnings.warn(\n"
     ]
    },
    {
     "name": "stdout",
     "output_type": "stream",
     "text": [
      "    → AP=0.5449\n",
      "→ gamma_pos=0.0, gamma_neg=6.0\n"
     ]
    },
    {
     "name": "stderr",
     "output_type": "stream",
     "text": [
      "c:\\Users\\mapei\\AppData\\Local\\Programs\\Python\\Python310\\lib\\site-packages\\torch\\nn\\modules\\transformer.py:385: UserWarning: enable_nested_tensor is True, but self.use_nested_tensor is False because encoder_layer was not TransformerEncoderLayer\n",
      "  warnings.warn(\n"
     ]
    },
    {
     "name": "stdout",
     "output_type": "stream",
     "text": [
      "    → AP=0.5475\n",
      "→ gamma_pos=0.5, gamma_neg=3.0\n"
     ]
    },
    {
     "name": "stderr",
     "output_type": "stream",
     "text": [
      "c:\\Users\\mapei\\AppData\\Local\\Programs\\Python\\Python310\\lib\\site-packages\\torch\\nn\\modules\\transformer.py:385: UserWarning: enable_nested_tensor is True, but self.use_nested_tensor is False because encoder_layer was not TransformerEncoderLayer\n",
      "  warnings.warn(\n"
     ]
    },
    {
     "name": "stdout",
     "output_type": "stream",
     "text": [
      "    → AP=0.5453\n",
      "→ gamma_pos=0.5, gamma_neg=4.0\n"
     ]
    },
    {
     "name": "stderr",
     "output_type": "stream",
     "text": [
      "c:\\Users\\mapei\\AppData\\Local\\Programs\\Python\\Python310\\lib\\site-packages\\torch\\nn\\modules\\transformer.py:385: UserWarning: enable_nested_tensor is True, but self.use_nested_tensor is False because encoder_layer was not TransformerEncoderLayer\n",
      "  warnings.warn(\n"
     ]
    },
    {
     "name": "stdout",
     "output_type": "stream",
     "text": [
      "    → AP=0.5476\n",
      "→ gamma_pos=0.5, gamma_neg=5.0\n"
     ]
    },
    {
     "name": "stderr",
     "output_type": "stream",
     "text": [
      "c:\\Users\\mapei\\AppData\\Local\\Programs\\Python\\Python310\\lib\\site-packages\\torch\\nn\\modules\\transformer.py:385: UserWarning: enable_nested_tensor is True, but self.use_nested_tensor is False because encoder_layer was not TransformerEncoderLayer\n",
      "  warnings.warn(\n"
     ]
    },
    {
     "name": "stdout",
     "output_type": "stream",
     "text": [
      "    → AP=0.5449\n",
      "→ gamma_pos=0.5, gamma_neg=6.0\n"
     ]
    },
    {
     "name": "stderr",
     "output_type": "stream",
     "text": [
      "c:\\Users\\mapei\\AppData\\Local\\Programs\\Python\\Python310\\lib\\site-packages\\torch\\nn\\modules\\transformer.py:385: UserWarning: enable_nested_tensor is True, but self.use_nested_tensor is False because encoder_layer was not TransformerEncoderLayer\n",
      "  warnings.warn(\n"
     ]
    },
    {
     "name": "stdout",
     "output_type": "stream",
     "text": [
      "    → AP=0.5501\n",
      " Best config for Atelectasis: gamma_pos=0.5, gamma_neg=6.0 with AP=0.5501\n",
      " Training with gamma_pos=0.5, gamma_neg=6.0\n"
     ]
    },
    {
     "name": "stderr",
     "output_type": "stream",
     "text": [
      "c:\\Users\\mapei\\AppData\\Local\\Programs\\Python\\Python310\\lib\\site-packages\\torch\\nn\\modules\\transformer.py:385: UserWarning: enable_nested_tensor is True, but self.use_nested_tensor is False because encoder_layer was not TransformerEncoderLayer\n",
      "  warnings.warn(\n"
     ]
    },
    {
     "name": "stdout",
     "output_type": "stream",
     "text": [
      "[Atelectasis] Epoch 1 - Training loss: 0.0635\n",
      "[Atelectasis] Epoch 2 - Training loss: 0.0609\n",
      "[Atelectasis] Epoch 3 - Training loss: 0.0604\n",
      "[Atelectasis] Epoch 4 - Training loss: 0.0598\n",
      "[Atelectasis] Epoch 5 - Training loss: 0.0599\n",
      "[Atelectasis] Epoch 6 - Training loss: 0.0595\n",
      "[Atelectasis] Epoch 7 - Training loss: 0.0593\n",
      "[Atelectasis] Epoch 8 - Training loss: 0.0593\n",
      "[Atelectasis] Epoch 9 - Training loss: 0.0591\n",
      "[Atelectasis] Epoch 10 - Training loss: 0.0590\n",
      "[Atelectasis] Epoch 11 - Training loss: 0.0587\n",
      "[Atelectasis] Epoch 12 - Training loss: 0.0585\n",
      "[Atelectasis] Epoch 13 - Training loss: 0.0583\n",
      "[Atelectasis] Epoch 14 - Training loss: 0.0581\n",
      "[Atelectasis] Epoch 15 - Training loss: 0.0578\n",
      " Model for Atelectasis saved to transformer_label_7_Atelectasis.pt\n",
      "\n",
      " Running ASL grid search for label: Pneumothorax\n",
      "\n",
      " Grid search for label: Pneumothorax\n",
      "→ gamma_pos=0.0, gamma_neg=3.0\n",
      "    → AP=0.7136\n",
      "→ gamma_pos=0.0, gamma_neg=4.0\n"
     ]
    },
    {
     "name": "stderr",
     "output_type": "stream",
     "text": [
      "c:\\Users\\mapei\\AppData\\Local\\Programs\\Python\\Python310\\lib\\site-packages\\torch\\nn\\modules\\transformer.py:385: UserWarning: enable_nested_tensor is True, but self.use_nested_tensor is False because encoder_layer was not TransformerEncoderLayer\n",
      "  warnings.warn(\n"
     ]
    },
    {
     "name": "stdout",
     "output_type": "stream",
     "text": [
      "    → AP=0.7131\n",
      "→ gamma_pos=0.0, gamma_neg=5.0\n"
     ]
    },
    {
     "name": "stderr",
     "output_type": "stream",
     "text": [
      "c:\\Users\\mapei\\AppData\\Local\\Programs\\Python\\Python310\\lib\\site-packages\\torch\\nn\\modules\\transformer.py:385: UserWarning: enable_nested_tensor is True, but self.use_nested_tensor is False because encoder_layer was not TransformerEncoderLayer\n",
      "  warnings.warn(\n"
     ]
    },
    {
     "name": "stdout",
     "output_type": "stream",
     "text": [
      "    → AP=0.7110\n",
      "→ gamma_pos=0.0, gamma_neg=6.0\n"
     ]
    },
    {
     "name": "stderr",
     "output_type": "stream",
     "text": [
      "c:\\Users\\mapei\\AppData\\Local\\Programs\\Python\\Python310\\lib\\site-packages\\torch\\nn\\modules\\transformer.py:385: UserWarning: enable_nested_tensor is True, but self.use_nested_tensor is False because encoder_layer was not TransformerEncoderLayer\n",
      "  warnings.warn(\n"
     ]
    },
    {
     "name": "stdout",
     "output_type": "stream",
     "text": [
      "    → AP=0.7194\n",
      "→ gamma_pos=0.5, gamma_neg=3.0\n"
     ]
    },
    {
     "name": "stderr",
     "output_type": "stream",
     "text": [
      "c:\\Users\\mapei\\AppData\\Local\\Programs\\Python\\Python310\\lib\\site-packages\\torch\\nn\\modules\\transformer.py:385: UserWarning: enable_nested_tensor is True, but self.use_nested_tensor is False because encoder_layer was not TransformerEncoderLayer\n",
      "  warnings.warn(\n"
     ]
    },
    {
     "name": "stdout",
     "output_type": "stream",
     "text": [
      "    → AP=0.7016\n",
      "→ gamma_pos=0.5, gamma_neg=4.0\n"
     ]
    },
    {
     "name": "stderr",
     "output_type": "stream",
     "text": [
      "c:\\Users\\mapei\\AppData\\Local\\Programs\\Python\\Python310\\lib\\site-packages\\torch\\nn\\modules\\transformer.py:385: UserWarning: enable_nested_tensor is True, but self.use_nested_tensor is False because encoder_layer was not TransformerEncoderLayer\n",
      "  warnings.warn(\n"
     ]
    },
    {
     "name": "stdout",
     "output_type": "stream",
     "text": [
      "    → AP=0.6967\n",
      "→ gamma_pos=0.5, gamma_neg=5.0\n"
     ]
    },
    {
     "name": "stderr",
     "output_type": "stream",
     "text": [
      "c:\\Users\\mapei\\AppData\\Local\\Programs\\Python\\Python310\\lib\\site-packages\\torch\\nn\\modules\\transformer.py:385: UserWarning: enable_nested_tensor is True, but self.use_nested_tensor is False because encoder_layer was not TransformerEncoderLayer\n",
      "  warnings.warn(\n"
     ]
    },
    {
     "name": "stdout",
     "output_type": "stream",
     "text": [
      "    → AP=0.7086\n",
      "→ gamma_pos=0.5, gamma_neg=6.0\n"
     ]
    },
    {
     "name": "stderr",
     "output_type": "stream",
     "text": [
      "c:\\Users\\mapei\\AppData\\Local\\Programs\\Python\\Python310\\lib\\site-packages\\torch\\nn\\modules\\transformer.py:385: UserWarning: enable_nested_tensor is True, but self.use_nested_tensor is False because encoder_layer was not TransformerEncoderLayer\n",
      "  warnings.warn(\n"
     ]
    },
    {
     "name": "stdout",
     "output_type": "stream",
     "text": [
      "    → AP=0.7164\n",
      " Best config for Pneumothorax: gamma_pos=0.0, gamma_neg=6.0 with AP=0.7194\n",
      " Training with gamma_pos=0.0, gamma_neg=6.0\n"
     ]
    },
    {
     "name": "stderr",
     "output_type": "stream",
     "text": [
      "c:\\Users\\mapei\\AppData\\Local\\Programs\\Python\\Python310\\lib\\site-packages\\torch\\nn\\modules\\transformer.py:385: UserWarning: enable_nested_tensor is True, but self.use_nested_tensor is False because encoder_layer was not TransformerEncoderLayer\n",
      "  warnings.warn(\n"
     ]
    },
    {
     "name": "stdout",
     "output_type": "stream",
     "text": [
      "[Pneumothorax] Epoch 1 - Training loss: 0.0565\n",
      "[Pneumothorax] Epoch 2 - Training loss: 0.0517\n",
      "[Pneumothorax] Epoch 3 - Training loss: 0.0510\n",
      "[Pneumothorax] Epoch 4 - Training loss: 0.0508\n",
      "[Pneumothorax] Epoch 5 - Training loss: 0.0507\n",
      "[Pneumothorax] Epoch 6 - Training loss: 0.0502\n",
      "[Pneumothorax] Epoch 7 - Training loss: 0.0502\n",
      "[Pneumothorax] Epoch 8 - Training loss: 0.0496\n",
      "[Pneumothorax] Epoch 9 - Training loss: 0.0495\n",
      "[Pneumothorax] Epoch 10 - Training loss: 0.0491\n",
      "[Pneumothorax] Epoch 11 - Training loss: 0.0490\n",
      "[Pneumothorax] Epoch 12 - Training loss: 0.0486\n",
      "[Pneumothorax] Epoch 13 - Training loss: 0.0482\n",
      "[Pneumothorax] Epoch 14 - Training loss: 0.0476\n",
      "[Pneumothorax] Epoch 15 - Training loss: 0.0474\n",
      " Model for Pneumothorax saved to transformer_label_8_Pneumothorax.pt\n",
      "\n",
      " Running ASL grid search for label: Pleural Effusion\n",
      "\n",
      " Grid search for label: Pleural Effusion\n",
      "→ gamma_pos=0.0, gamma_neg=3.0\n",
      "    → AP=0.3490\n",
      "→ gamma_pos=0.0, gamma_neg=4.0\n"
     ]
    },
    {
     "name": "stderr",
     "output_type": "stream",
     "text": [
      "c:\\Users\\mapei\\AppData\\Local\\Programs\\Python\\Python310\\lib\\site-packages\\torch\\nn\\modules\\transformer.py:385: UserWarning: enable_nested_tensor is True, but self.use_nested_tensor is False because encoder_layer was not TransformerEncoderLayer\n",
      "  warnings.warn(\n"
     ]
    },
    {
     "name": "stdout",
     "output_type": "stream",
     "text": [
      "    → AP=0.3715\n",
      "→ gamma_pos=0.0, gamma_neg=5.0\n"
     ]
    },
    {
     "name": "stderr",
     "output_type": "stream",
     "text": [
      "c:\\Users\\mapei\\AppData\\Local\\Programs\\Python\\Python310\\lib\\site-packages\\torch\\nn\\modules\\transformer.py:385: UserWarning: enable_nested_tensor is True, but self.use_nested_tensor is False because encoder_layer was not TransformerEncoderLayer\n",
      "  warnings.warn(\n"
     ]
    },
    {
     "name": "stdout",
     "output_type": "stream",
     "text": [
      "    → AP=0.3707\n",
      "→ gamma_pos=0.0, gamma_neg=6.0\n"
     ]
    },
    {
     "name": "stderr",
     "output_type": "stream",
     "text": [
      "c:\\Users\\mapei\\AppData\\Local\\Programs\\Python\\Python310\\lib\\site-packages\\torch\\nn\\modules\\transformer.py:385: UserWarning: enable_nested_tensor is True, but self.use_nested_tensor is False because encoder_layer was not TransformerEncoderLayer\n",
      "  warnings.warn(\n"
     ]
    },
    {
     "name": "stdout",
     "output_type": "stream",
     "text": [
      "    → AP=0.3190\n",
      "→ gamma_pos=0.5, gamma_neg=3.0\n"
     ]
    },
    {
     "name": "stderr",
     "output_type": "stream",
     "text": [
      "c:\\Users\\mapei\\AppData\\Local\\Programs\\Python\\Python310\\lib\\site-packages\\torch\\nn\\modules\\transformer.py:385: UserWarning: enable_nested_tensor is True, but self.use_nested_tensor is False because encoder_layer was not TransformerEncoderLayer\n",
      "  warnings.warn(\n"
     ]
    },
    {
     "name": "stdout",
     "output_type": "stream",
     "text": [
      "    → AP=0.3566\n",
      "→ gamma_pos=0.5, gamma_neg=4.0\n"
     ]
    },
    {
     "name": "stderr",
     "output_type": "stream",
     "text": [
      "c:\\Users\\mapei\\AppData\\Local\\Programs\\Python\\Python310\\lib\\site-packages\\torch\\nn\\modules\\transformer.py:385: UserWarning: enable_nested_tensor is True, but self.use_nested_tensor is False because encoder_layer was not TransformerEncoderLayer\n",
      "  warnings.warn(\n"
     ]
    },
    {
     "name": "stdout",
     "output_type": "stream",
     "text": [
      "    → AP=0.3559\n",
      "→ gamma_pos=0.5, gamma_neg=5.0\n"
     ]
    },
    {
     "name": "stderr",
     "output_type": "stream",
     "text": [
      "c:\\Users\\mapei\\AppData\\Local\\Programs\\Python\\Python310\\lib\\site-packages\\torch\\nn\\modules\\transformer.py:385: UserWarning: enable_nested_tensor is True, but self.use_nested_tensor is False because encoder_layer was not TransformerEncoderLayer\n",
      "  warnings.warn(\n"
     ]
    },
    {
     "name": "stdout",
     "output_type": "stream",
     "text": [
      "    → AP=0.3391\n",
      "→ gamma_pos=0.5, gamma_neg=6.0\n"
     ]
    },
    {
     "name": "stderr",
     "output_type": "stream",
     "text": [
      "c:\\Users\\mapei\\AppData\\Local\\Programs\\Python\\Python310\\lib\\site-packages\\torch\\nn\\modules\\transformer.py:385: UserWarning: enable_nested_tensor is True, but self.use_nested_tensor is False because encoder_layer was not TransformerEncoderLayer\n",
      "  warnings.warn(\n"
     ]
    },
    {
     "name": "stdout",
     "output_type": "stream",
     "text": [
      "    → AP=0.3189\n",
      " Best config for Pleural Effusion: gamma_pos=0.0, gamma_neg=4.0 with AP=0.3715\n",
      " Training with gamma_pos=0.0, gamma_neg=4.0\n"
     ]
    },
    {
     "name": "stderr",
     "output_type": "stream",
     "text": [
      "c:\\Users\\mapei\\AppData\\Local\\Programs\\Python\\Python310\\lib\\site-packages\\torch\\nn\\modules\\transformer.py:385: UserWarning: enable_nested_tensor is True, but self.use_nested_tensor is False because encoder_layer was not TransformerEncoderLayer\n",
      "  warnings.warn(\n"
     ]
    },
    {
     "name": "stdout",
     "output_type": "stream",
     "text": [
      "[Pleural Effusion] Epoch 1 - Training loss: 0.0178\n",
      "[Pleural Effusion] Epoch 2 - Training loss: 0.0161\n",
      "[Pleural Effusion] Epoch 3 - Training loss: 0.0157\n",
      "[Pleural Effusion] Epoch 4 - Training loss: 0.0156\n",
      "[Pleural Effusion] Epoch 5 - Training loss: 0.0155\n",
      "[Pleural Effusion] Epoch 6 - Training loss: 0.0155\n",
      "[Pleural Effusion] Epoch 7 - Training loss: 0.0151\n",
      "[Pleural Effusion] Epoch 8 - Training loss: 0.0149\n",
      "[Pleural Effusion] Epoch 9 - Training loss: 0.0147\n",
      "[Pleural Effusion] Epoch 10 - Training loss: 0.0145\n",
      "[Pleural Effusion] Epoch 11 - Training loss: 0.0143\n",
      "[Pleural Effusion] Epoch 12 - Training loss: 0.0139\n",
      "[Pleural Effusion] Epoch 13 - Training loss: 0.0136\n",
      "[Pleural Effusion] Epoch 14 - Training loss: 0.0131\n",
      "[Pleural Effusion] Epoch 15 - Training loss: 0.0130\n",
      " Model for Pleural Effusion saved to transformer_label_9_Pleural Effusion.pt\n",
      "\n",
      " Running ASL grid search for label: Pleural Other\n",
      "\n",
      " Grid search for label: Pleural Other\n",
      "→ gamma_pos=0.0, gamma_neg=3.0\n",
      "    → AP=0.3869\n",
      "→ gamma_pos=0.0, gamma_neg=4.0\n"
     ]
    },
    {
     "name": "stderr",
     "output_type": "stream",
     "text": [
      "c:\\Users\\mapei\\AppData\\Local\\Programs\\Python\\Python310\\lib\\site-packages\\torch\\nn\\modules\\transformer.py:385: UserWarning: enable_nested_tensor is True, but self.use_nested_tensor is False because encoder_layer was not TransformerEncoderLayer\n",
      "  warnings.warn(\n"
     ]
    },
    {
     "name": "stdout",
     "output_type": "stream",
     "text": [
      "    → AP=0.3845\n",
      "→ gamma_pos=0.0, gamma_neg=5.0\n"
     ]
    },
    {
     "name": "stderr",
     "output_type": "stream",
     "text": [
      "c:\\Users\\mapei\\AppData\\Local\\Programs\\Python\\Python310\\lib\\site-packages\\torch\\nn\\modules\\transformer.py:385: UserWarning: enable_nested_tensor is True, but self.use_nested_tensor is False because encoder_layer was not TransformerEncoderLayer\n",
      "  warnings.warn(\n"
     ]
    },
    {
     "name": "stdout",
     "output_type": "stream",
     "text": [
      "    → AP=0.3814\n",
      "→ gamma_pos=0.0, gamma_neg=6.0\n"
     ]
    },
    {
     "name": "stderr",
     "output_type": "stream",
     "text": [
      "c:\\Users\\mapei\\AppData\\Local\\Programs\\Python\\Python310\\lib\\site-packages\\torch\\nn\\modules\\transformer.py:385: UserWarning: enable_nested_tensor is True, but self.use_nested_tensor is False because encoder_layer was not TransformerEncoderLayer\n",
      "  warnings.warn(\n"
     ]
    },
    {
     "name": "stdout",
     "output_type": "stream",
     "text": [
      "    → AP=0.3917\n",
      "→ gamma_pos=0.5, gamma_neg=3.0\n"
     ]
    },
    {
     "name": "stderr",
     "output_type": "stream",
     "text": [
      "c:\\Users\\mapei\\AppData\\Local\\Programs\\Python\\Python310\\lib\\site-packages\\torch\\nn\\modules\\transformer.py:385: UserWarning: enable_nested_tensor is True, but self.use_nested_tensor is False because encoder_layer was not TransformerEncoderLayer\n",
      "  warnings.warn(\n"
     ]
    },
    {
     "name": "stdout",
     "output_type": "stream",
     "text": [
      "    → AP=0.3831\n",
      "→ gamma_pos=0.5, gamma_neg=4.0\n"
     ]
    },
    {
     "name": "stderr",
     "output_type": "stream",
     "text": [
      "c:\\Users\\mapei\\AppData\\Local\\Programs\\Python\\Python310\\lib\\site-packages\\torch\\nn\\modules\\transformer.py:385: UserWarning: enable_nested_tensor is True, but self.use_nested_tensor is False because encoder_layer was not TransformerEncoderLayer\n",
      "  warnings.warn(\n"
     ]
    },
    {
     "name": "stdout",
     "output_type": "stream",
     "text": [
      "    → AP=0.3886\n",
      "→ gamma_pos=0.5, gamma_neg=5.0\n"
     ]
    },
    {
     "name": "stderr",
     "output_type": "stream",
     "text": [
      "c:\\Users\\mapei\\AppData\\Local\\Programs\\Python\\Python310\\lib\\site-packages\\torch\\nn\\modules\\transformer.py:385: UserWarning: enable_nested_tensor is True, but self.use_nested_tensor is False because encoder_layer was not TransformerEncoderLayer\n",
      "  warnings.warn(\n"
     ]
    },
    {
     "name": "stdout",
     "output_type": "stream",
     "text": [
      "    → AP=0.3855\n",
      "→ gamma_pos=0.5, gamma_neg=6.0\n"
     ]
    },
    {
     "name": "stderr",
     "output_type": "stream",
     "text": [
      "c:\\Users\\mapei\\AppData\\Local\\Programs\\Python\\Python310\\lib\\site-packages\\torch\\nn\\modules\\transformer.py:385: UserWarning: enable_nested_tensor is True, but self.use_nested_tensor is False because encoder_layer was not TransformerEncoderLayer\n",
      "  warnings.warn(\n"
     ]
    },
    {
     "name": "stdout",
     "output_type": "stream",
     "text": [
      "    → AP=0.3915\n",
      " Best config for Pleural Other: gamma_pos=0.0, gamma_neg=6.0 with AP=0.3917\n",
      " Training with gamma_pos=0.0, gamma_neg=6.0\n"
     ]
    },
    {
     "name": "stderr",
     "output_type": "stream",
     "text": [
      "c:\\Users\\mapei\\AppData\\Local\\Programs\\Python\\Python310\\lib\\site-packages\\torch\\nn\\modules\\transformer.py:385: UserWarning: enable_nested_tensor is True, but self.use_nested_tensor is False because encoder_layer was not TransformerEncoderLayer\n",
      "  warnings.warn(\n"
     ]
    },
    {
     "name": "stdout",
     "output_type": "stream",
     "text": [
      "[Pleural Other] Epoch 1 - Training loss: 0.0466\n",
      "[Pleural Other] Epoch 2 - Training loss: 0.0452\n",
      "[Pleural Other] Epoch 3 - Training loss: 0.0447\n",
      "[Pleural Other] Epoch 4 - Training loss: 0.0445\n",
      "[Pleural Other] Epoch 5 - Training loss: 0.0443\n",
      "[Pleural Other] Epoch 6 - Training loss: 0.0441\n",
      "[Pleural Other] Epoch 7 - Training loss: 0.0439\n",
      "[Pleural Other] Epoch 8 - Training loss: 0.0437\n",
      "[Pleural Other] Epoch 9 - Training loss: 0.0435\n",
      "[Pleural Other] Epoch 10 - Training loss: 0.0437\n",
      "[Pleural Other] Epoch 11 - Training loss: 0.0433\n",
      "[Pleural Other] Epoch 12 - Training loss: 0.0432\n",
      "[Pleural Other] Epoch 13 - Training loss: 0.0430\n",
      "[Pleural Other] Epoch 14 - Training loss: 0.0427\n",
      "[Pleural Other] Epoch 15 - Training loss: 0.0425\n",
      " Model for Pleural Other saved to transformer_label_10_Pleural Other.pt\n",
      "\n",
      " Running ASL grid search for label: Fracture\n",
      "\n",
      " Grid search for label: Fracture\n",
      "→ gamma_pos=0.0, gamma_neg=3.0\n",
      "    → AP=0.1984\n",
      "→ gamma_pos=0.0, gamma_neg=4.0\n"
     ]
    },
    {
     "name": "stderr",
     "output_type": "stream",
     "text": [
      "c:\\Users\\mapei\\AppData\\Local\\Programs\\Python\\Python310\\lib\\site-packages\\torch\\nn\\modules\\transformer.py:385: UserWarning: enable_nested_tensor is True, but self.use_nested_tensor is False because encoder_layer was not TransformerEncoderLayer\n",
      "  warnings.warn(\n"
     ]
    },
    {
     "name": "stdout",
     "output_type": "stream",
     "text": [
      "    → AP=0.2178\n",
      "→ gamma_pos=0.0, gamma_neg=5.0\n"
     ]
    },
    {
     "name": "stderr",
     "output_type": "stream",
     "text": [
      "c:\\Users\\mapei\\AppData\\Local\\Programs\\Python\\Python310\\lib\\site-packages\\torch\\nn\\modules\\transformer.py:385: UserWarning: enable_nested_tensor is True, but self.use_nested_tensor is False because encoder_layer was not TransformerEncoderLayer\n",
      "  warnings.warn(\n"
     ]
    },
    {
     "name": "stdout",
     "output_type": "stream",
     "text": [
      "    → AP=0.2379\n",
      "→ gamma_pos=0.0, gamma_neg=6.0\n"
     ]
    },
    {
     "name": "stderr",
     "output_type": "stream",
     "text": [
      "c:\\Users\\mapei\\AppData\\Local\\Programs\\Python\\Python310\\lib\\site-packages\\torch\\nn\\modules\\transformer.py:385: UserWarning: enable_nested_tensor is True, but self.use_nested_tensor is False because encoder_layer was not TransformerEncoderLayer\n",
      "  warnings.warn(\n"
     ]
    },
    {
     "name": "stdout",
     "output_type": "stream",
     "text": [
      "    → AP=0.2098\n",
      "→ gamma_pos=0.5, gamma_neg=3.0\n"
     ]
    },
    {
     "name": "stderr",
     "output_type": "stream",
     "text": [
      "c:\\Users\\mapei\\AppData\\Local\\Programs\\Python\\Python310\\lib\\site-packages\\torch\\nn\\modules\\transformer.py:385: UserWarning: enable_nested_tensor is True, but self.use_nested_tensor is False because encoder_layer was not TransformerEncoderLayer\n",
      "  warnings.warn(\n"
     ]
    },
    {
     "name": "stdout",
     "output_type": "stream",
     "text": [
      "    → AP=0.1647\n",
      "→ gamma_pos=0.5, gamma_neg=4.0\n"
     ]
    },
    {
     "name": "stderr",
     "output_type": "stream",
     "text": [
      "c:\\Users\\mapei\\AppData\\Local\\Programs\\Python\\Python310\\lib\\site-packages\\torch\\nn\\modules\\transformer.py:385: UserWarning: enable_nested_tensor is True, but self.use_nested_tensor is False because encoder_layer was not TransformerEncoderLayer\n",
      "  warnings.warn(\n"
     ]
    },
    {
     "name": "stdout",
     "output_type": "stream",
     "text": [
      "    → AP=0.1990\n",
      "→ gamma_pos=0.5, gamma_neg=5.0\n"
     ]
    },
    {
     "name": "stderr",
     "output_type": "stream",
     "text": [
      "c:\\Users\\mapei\\AppData\\Local\\Programs\\Python\\Python310\\lib\\site-packages\\torch\\nn\\modules\\transformer.py:385: UserWarning: enable_nested_tensor is True, but self.use_nested_tensor is False because encoder_layer was not TransformerEncoderLayer\n",
      "  warnings.warn(\n"
     ]
    },
    {
     "name": "stdout",
     "output_type": "stream",
     "text": [
      "    → AP=0.2025\n",
      "→ gamma_pos=0.5, gamma_neg=6.0\n"
     ]
    },
    {
     "name": "stderr",
     "output_type": "stream",
     "text": [
      "c:\\Users\\mapei\\AppData\\Local\\Programs\\Python\\Python310\\lib\\site-packages\\torch\\nn\\modules\\transformer.py:385: UserWarning: enable_nested_tensor is True, but self.use_nested_tensor is False because encoder_layer was not TransformerEncoderLayer\n",
      "  warnings.warn(\n"
     ]
    },
    {
     "name": "stdout",
     "output_type": "stream",
     "text": [
      "    → AP=0.1989\n",
      " Best config for Fracture: gamma_pos=0.0, gamma_neg=5.0 with AP=0.2379\n",
      " Training with gamma_pos=0.0, gamma_neg=5.0\n"
     ]
    },
    {
     "name": "stderr",
     "output_type": "stream",
     "text": [
      "c:\\Users\\mapei\\AppData\\Local\\Programs\\Python\\Python310\\lib\\site-packages\\torch\\nn\\modules\\transformer.py:385: UserWarning: enable_nested_tensor is True, but self.use_nested_tensor is False because encoder_layer was not TransformerEncoderLayer\n",
      "  warnings.warn(\n"
     ]
    },
    {
     "name": "stdout",
     "output_type": "stream",
     "text": [
      "[Fracture] Epoch 1 - Training loss: 0.0168\n",
      "[Fracture] Epoch 2 - Training loss: 0.0157\n",
      "[Fracture] Epoch 3 - Training loss: 0.0154\n",
      "[Fracture] Epoch 4 - Training loss: 0.0154\n",
      "[Fracture] Epoch 5 - Training loss: 0.0152\n",
      "[Fracture] Epoch 6 - Training loss: 0.0151\n",
      "[Fracture] Epoch 7 - Training loss: 0.0150\n",
      "[Fracture] Epoch 8 - Training loss: 0.0149\n",
      "[Fracture] Epoch 9 - Training loss: 0.0148\n",
      "[Fracture] Epoch 10 - Training loss: 0.0146\n",
      "[Fracture] Epoch 11 - Training loss: 0.0145\n",
      "[Fracture] Epoch 12 - Training loss: 0.0145\n",
      "[Fracture] Epoch 13 - Training loss: 0.0143\n",
      "[Fracture] Epoch 14 - Training loss: 0.0142\n",
      "[Fracture] Epoch 15 - Training loss: 0.0140\n",
      " Model for Fracture saved to transformer_label_11_Fracture.pt\n",
      "\n",
      " Running ASL grid search for label: Support Devices\n",
      "\n",
      " Grid search for label: Support Devices\n",
      "→ gamma_pos=0.0, gamma_neg=3.0\n",
      "    → AP=0.5114\n",
      "→ gamma_pos=0.0, gamma_neg=4.0\n"
     ]
    },
    {
     "name": "stderr",
     "output_type": "stream",
     "text": [
      "c:\\Users\\mapei\\AppData\\Local\\Programs\\Python\\Python310\\lib\\site-packages\\torch\\nn\\modules\\transformer.py:385: UserWarning: enable_nested_tensor is True, but self.use_nested_tensor is False because encoder_layer was not TransformerEncoderLayer\n",
      "  warnings.warn(\n"
     ]
    },
    {
     "name": "stdout",
     "output_type": "stream",
     "text": [
      "    → AP=0.5102\n",
      "→ gamma_pos=0.0, gamma_neg=5.0\n"
     ]
    },
    {
     "name": "stderr",
     "output_type": "stream",
     "text": [
      "c:\\Users\\mapei\\AppData\\Local\\Programs\\Python\\Python310\\lib\\site-packages\\torch\\nn\\modules\\transformer.py:385: UserWarning: enable_nested_tensor is True, but self.use_nested_tensor is False because encoder_layer was not TransformerEncoderLayer\n",
      "  warnings.warn(\n"
     ]
    },
    {
     "name": "stdout",
     "output_type": "stream",
     "text": [
      "    → AP=0.5203\n",
      "→ gamma_pos=0.0, gamma_neg=6.0\n"
     ]
    },
    {
     "name": "stderr",
     "output_type": "stream",
     "text": [
      "c:\\Users\\mapei\\AppData\\Local\\Programs\\Python\\Python310\\lib\\site-packages\\torch\\nn\\modules\\transformer.py:385: UserWarning: enable_nested_tensor is True, but self.use_nested_tensor is False because encoder_layer was not TransformerEncoderLayer\n",
      "  warnings.warn(\n"
     ]
    },
    {
     "name": "stdout",
     "output_type": "stream",
     "text": [
      "    → AP=0.5281\n",
      "→ gamma_pos=0.5, gamma_neg=3.0\n"
     ]
    },
    {
     "name": "stderr",
     "output_type": "stream",
     "text": [
      "c:\\Users\\mapei\\AppData\\Local\\Programs\\Python\\Python310\\lib\\site-packages\\torch\\nn\\modules\\transformer.py:385: UserWarning: enable_nested_tensor is True, but self.use_nested_tensor is False because encoder_layer was not TransformerEncoderLayer\n",
      "  warnings.warn(\n"
     ]
    },
    {
     "name": "stdout",
     "output_type": "stream",
     "text": [
      "    → AP=0.5108\n",
      "→ gamma_pos=0.5, gamma_neg=4.0\n"
     ]
    },
    {
     "name": "stderr",
     "output_type": "stream",
     "text": [
      "c:\\Users\\mapei\\AppData\\Local\\Programs\\Python\\Python310\\lib\\site-packages\\torch\\nn\\modules\\transformer.py:385: UserWarning: enable_nested_tensor is True, but self.use_nested_tensor is False because encoder_layer was not TransformerEncoderLayer\n",
      "  warnings.warn(\n"
     ]
    },
    {
     "name": "stdout",
     "output_type": "stream",
     "text": [
      "    → AP=0.5258\n",
      "→ gamma_pos=0.5, gamma_neg=5.0\n"
     ]
    },
    {
     "name": "stderr",
     "output_type": "stream",
     "text": [
      "c:\\Users\\mapei\\AppData\\Local\\Programs\\Python\\Python310\\lib\\site-packages\\torch\\nn\\modules\\transformer.py:385: UserWarning: enable_nested_tensor is True, but self.use_nested_tensor is False because encoder_layer was not TransformerEncoderLayer\n",
      "  warnings.warn(\n"
     ]
    },
    {
     "name": "stdout",
     "output_type": "stream",
     "text": [
      "    → AP=0.5211\n",
      "→ gamma_pos=0.5, gamma_neg=6.0\n"
     ]
    },
    {
     "name": "stderr",
     "output_type": "stream",
     "text": [
      "c:\\Users\\mapei\\AppData\\Local\\Programs\\Python\\Python310\\lib\\site-packages\\torch\\nn\\modules\\transformer.py:385: UserWarning: enable_nested_tensor is True, but self.use_nested_tensor is False because encoder_layer was not TransformerEncoderLayer\n",
      "  warnings.warn(\n"
     ]
    },
    {
     "name": "stdout",
     "output_type": "stream",
     "text": [
      "    → AP=0.5096\n",
      " Best config for Support Devices: gamma_pos=0.0, gamma_neg=6.0 with AP=0.5281\n",
      " Training with gamma_pos=0.0, gamma_neg=6.0\n"
     ]
    },
    {
     "name": "stderr",
     "output_type": "stream",
     "text": [
      "c:\\Users\\mapei\\AppData\\Local\\Programs\\Python\\Python310\\lib\\site-packages\\torch\\nn\\modules\\transformer.py:385: UserWarning: enable_nested_tensor is True, but self.use_nested_tensor is False because encoder_layer was not TransformerEncoderLayer\n",
      "  warnings.warn(\n"
     ]
    },
    {
     "name": "stdout",
     "output_type": "stream",
     "text": [
      "[Support Devices] Epoch 1 - Training loss: 0.0416\n",
      "[Support Devices] Epoch 2 - Training loss: 0.0386\n",
      "[Support Devices] Epoch 3 - Training loss: 0.0384\n",
      "[Support Devices] Epoch 4 - Training loss: 0.0381\n",
      "[Support Devices] Epoch 5 - Training loss: 0.0378\n",
      "[Support Devices] Epoch 6 - Training loss: 0.0376\n",
      "[Support Devices] Epoch 7 - Training loss: 0.0375\n",
      "[Support Devices] Epoch 8 - Training loss: 0.0371\n",
      "[Support Devices] Epoch 9 - Training loss: 0.0369\n",
      "[Support Devices] Epoch 10 - Training loss: 0.0369\n",
      "[Support Devices] Epoch 11 - Training loss: 0.0366\n",
      "[Support Devices] Epoch 12 - Training loss: 0.0362\n",
      "[Support Devices] Epoch 13 - Training loss: 0.0359\n",
      "[Support Devices] Epoch 14 - Training loss: 0.0355\n",
      "[Support Devices] Epoch 15 - Training loss: 0.0352\n",
      " Model for Support Devices saved to transformer_label_12_Support Devices.pt\n",
      "\n",
      " All best gamma configs saved to best_gamma_config_per_label.csv\n"
     ]
    }
   ],
   "source": [
    "label_names =  [\n",
    "    \"Enlarged Cardiomediastinum\", \"Cardiomegaly\", \"Lung Opacity\", \"Lung Lesion\",\n",
    "    \"Edema\", \"Consolidation\", \"Pneumonia\", \"Atelectasis\",\n",
    "    \"Pneumothorax\", \"Pleural Effusion\", \"Pleural Other\", \"Fracture\", \"Support Devices\"\n",
    "]\n",
    "\n",
    "gamma_pos_list = [0.0, 0.5]\n",
    "gamma_neg_list = [3.0, 4.0, 5.0, 6.0]\n",
    "\n",
    "search_results = []\n",
    "\n",
    "device = torch.device(\"cuda\" if torch.cuda.is_available() else \"cpu\")\n",
    "\n",
    "for i, label_name in enumerate(label_names):\n",
    "    print(f\"\\n Running ASL grid search for label: {label_name}\")\n",
    "\n",
    "    best_gamma_pos, best_gamma_neg = grid_search_asl_for_label(\n",
    "        i, label_name, gamma_pos_list, gamma_neg_list\n",
    "    )\n",
    "\n",
    "    # Train final model with best gamma combination\n",
    "    train_X, train_y = get_single_label_data(train_embeddings, train_labels, i)\n",
    "    val_X, val_y = get_single_label_data(valid_embeddings, valid_labels, i)\n",
    "\n",
    "    train_ds = SingleLabelDataset(train_X, train_y)\n",
    "    val_ds = SingleLabelDataset(val_X, val_y)\n",
    "\n",
    "    train_loader = DataLoader(train_ds, batch_size=32, shuffle=True)\n",
    "    val_loader = DataLoader(val_ds, batch_size=32, shuffle=False)\n",
    "\n",
    "    model_path = f\"transformer_label_{i}_{label_name}.pt\"\n",
    "    model = train_single_label_model(train_loader, val_loader, label_name, model_path,\n",
    "                                    gamma_pos=best_gamma_pos, gamma_neg=best_gamma_neg)\n",
    "\n",
    "    # Save best config for this label\n",
    "    search_results.append({\n",
    "        \"label\": label_name,\n",
    "        \"gamma_pos\": best_gamma_pos,\n",
    "        \"gamma_neg\": best_gamma_neg\n",
    "    })\n",
    "\n",
    "# Save all best gamma configurations to CSV\n",
    "import pandas as pd\n",
    "pd.DataFrame(search_results).to_csv(\"best_gamma_config_per_label.csv\", index=False)\n",
    "print(\"\\n All best gamma configs saved to best_gamma_config_per_label.csv\")"
   ]
  },
  {
   "cell_type": "code",
   "execution_count": 34,
   "metadata": {},
   "outputs": [],
   "source": [
    "def evaluate_model(model, dataloader, device):\n",
    "    model.eval()\n",
    "    all_probs = []\n",
    "    all_targets = []\n",
    "\n",
    "    with torch.no_grad():\n",
    "        for batch in dataloader:\n",
    "            x = batch[\"embedding\"].to(device)\n",
    "            y = batch[\"lab\"].to(device).squeeze()  # shape: (batch_size,)\n",
    "\n",
    "            logits = model(x).squeeze()  # shape: (batch_size,)\n",
    "            probs = torch.sigmoid(logits)\n",
    "\n",
    "            all_probs.extend(probs.cpu().numpy())\n",
    "            all_targets.extend(y.cpu().numpy())\n",
    "\n",
    "    try:\n",
    "        auc = roc_auc_score(all_targets, all_probs)\n",
    "    except ValueError:\n",
    "        auc = float('nan')\n",
    "\n",
    "    return auc"
   ]
  },
  {
   "cell_type": "code",
   "execution_count": 35,
   "metadata": {},
   "outputs": [
    {
     "name": "stdout",
     "output_type": "stream",
     "text": [
      "\n",
      " Testing model for: Enlarged Cardiomediastinum\n",
      "[Enlarged Cardiomediastinum] Test AUC: 0.9004\n",
      "\n",
      " Testing model for: Cardiomegaly\n"
     ]
    },
    {
     "name": "stderr",
     "output_type": "stream",
     "text": [
      "c:\\Users\\mapei\\AppData\\Local\\Programs\\Python\\Python310\\lib\\site-packages\\torch\\nn\\modules\\transformer.py:385: UserWarning: enable_nested_tensor is True, but self.use_nested_tensor is False because encoder_layer was not TransformerEncoderLayer\n",
      "  warnings.warn(\n"
     ]
    },
    {
     "name": "stdout",
     "output_type": "stream",
     "text": [
      "[Cardiomegaly] Test AUC: 0.9123\n",
      "\n",
      " Testing model for: Lung Opacity\n"
     ]
    },
    {
     "name": "stderr",
     "output_type": "stream",
     "text": [
      "c:\\Users\\mapei\\AppData\\Local\\Programs\\Python\\Python310\\lib\\site-packages\\torch\\nn\\modules\\transformer.py:385: UserWarning: enable_nested_tensor is True, but self.use_nested_tensor is False because encoder_layer was not TransformerEncoderLayer\n",
      "  warnings.warn(\n"
     ]
    },
    {
     "name": "stdout",
     "output_type": "stream",
     "text": [
      "[Lung Opacity] Test AUC: 0.8974\n",
      "\n",
      " Testing model for: Lung Lesion\n"
     ]
    },
    {
     "name": "stderr",
     "output_type": "stream",
     "text": [
      "c:\\Users\\mapei\\AppData\\Local\\Programs\\Python\\Python310\\lib\\site-packages\\torch\\nn\\modules\\transformer.py:385: UserWarning: enable_nested_tensor is True, but self.use_nested_tensor is False because encoder_layer was not TransformerEncoderLayer\n",
      "  warnings.warn(\n"
     ]
    },
    {
     "name": "stdout",
     "output_type": "stream",
     "text": [
      "[Lung Lesion] Test AUC: 0.9593\n",
      "\n",
      " Testing model for: Edema\n"
     ]
    },
    {
     "name": "stderr",
     "output_type": "stream",
     "text": [
      "c:\\Users\\mapei\\AppData\\Local\\Programs\\Python\\Python310\\lib\\site-packages\\torch\\nn\\modules\\transformer.py:385: UserWarning: enable_nested_tensor is True, but self.use_nested_tensor is False because encoder_layer was not TransformerEncoderLayer\n",
      "  warnings.warn(\n"
     ]
    },
    {
     "name": "stdout",
     "output_type": "stream",
     "text": [
      "[Edema] Test AUC: 0.7945\n",
      "\n",
      " Testing model for: Consolidation\n"
     ]
    },
    {
     "name": "stderr",
     "output_type": "stream",
     "text": [
      "c:\\Users\\mapei\\AppData\\Local\\Programs\\Python\\Python310\\lib\\site-packages\\torch\\nn\\modules\\transformer.py:385: UserWarning: enable_nested_tensor is True, but self.use_nested_tensor is False because encoder_layer was not TransformerEncoderLayer\n",
      "  warnings.warn(\n"
     ]
    },
    {
     "name": "stdout",
     "output_type": "stream",
     "text": [
      "[Consolidation] Test AUC: 0.7759\n",
      "\n",
      " Testing model for: Pneumonia\n"
     ]
    },
    {
     "name": "stderr",
     "output_type": "stream",
     "text": [
      "c:\\Users\\mapei\\AppData\\Local\\Programs\\Python\\Python310\\lib\\site-packages\\torch\\nn\\modules\\transformer.py:385: UserWarning: enable_nested_tensor is True, but self.use_nested_tensor is False because encoder_layer was not TransformerEncoderLayer\n",
      "  warnings.warn(\n"
     ]
    },
    {
     "name": "stdout",
     "output_type": "stream",
     "text": [
      "[Pneumonia] Test AUC: 0.8907\n",
      "\n",
      " Testing model for: Atelectasis\n"
     ]
    },
    {
     "name": "stderr",
     "output_type": "stream",
     "text": [
      "c:\\Users\\mapei\\AppData\\Local\\Programs\\Python\\Python310\\lib\\site-packages\\torch\\nn\\modules\\transformer.py:385: UserWarning: enable_nested_tensor is True, but self.use_nested_tensor is False because encoder_layer was not TransformerEncoderLayer\n",
      "  warnings.warn(\n"
     ]
    },
    {
     "name": "stdout",
     "output_type": "stream",
     "text": [
      "[Atelectasis] Test AUC: 0.8632\n",
      "\n",
      " Testing model for: Pneumothorax\n"
     ]
    },
    {
     "name": "stderr",
     "output_type": "stream",
     "text": [
      "c:\\Users\\mapei\\AppData\\Local\\Programs\\Python\\Python310\\lib\\site-packages\\torch\\nn\\modules\\transformer.py:385: UserWarning: enable_nested_tensor is True, but self.use_nested_tensor is False because encoder_layer was not TransformerEncoderLayer\n",
      "  warnings.warn(\n"
     ]
    },
    {
     "name": "stdout",
     "output_type": "stream",
     "text": [
      "[Pneumothorax] Test AUC: 0.9463\n",
      "\n",
      " Testing model for: Pleural Effusion\n"
     ]
    },
    {
     "name": "stderr",
     "output_type": "stream",
     "text": [
      "c:\\Users\\mapei\\AppData\\Local\\Programs\\Python\\Python310\\lib\\site-packages\\torch\\nn\\modules\\transformer.py:385: UserWarning: enable_nested_tensor is True, but self.use_nested_tensor is False because encoder_layer was not TransformerEncoderLayer\n",
      "  warnings.warn(\n"
     ]
    },
    {
     "name": "stdout",
     "output_type": "stream",
     "text": [
      "[Pleural Effusion] Test AUC: 0.9224\n",
      "\n",
      " Testing model for: Pleural Other\n"
     ]
    },
    {
     "name": "stderr",
     "output_type": "stream",
     "text": [
      "c:\\Users\\mapei\\AppData\\Local\\Programs\\Python\\Python310\\lib\\site-packages\\torch\\nn\\modules\\transformer.py:385: UserWarning: enable_nested_tensor is True, but self.use_nested_tensor is False because encoder_layer was not TransformerEncoderLayer\n",
      "  warnings.warn(\n"
     ]
    },
    {
     "name": "stdout",
     "output_type": "stream",
     "text": [
      "[Pleural Other] Test AUC: 0.8377\n",
      "\n",
      " Testing model for: Fracture\n"
     ]
    },
    {
     "name": "stderr",
     "output_type": "stream",
     "text": [
      "c:\\Users\\mapei\\AppData\\Local\\Programs\\Python\\Python310\\lib\\site-packages\\torch\\nn\\modules\\transformer.py:385: UserWarning: enable_nested_tensor is True, but self.use_nested_tensor is False because encoder_layer was not TransformerEncoderLayer\n",
      "  warnings.warn(\n"
     ]
    },
    {
     "name": "stdout",
     "output_type": "stream",
     "text": [
      "[Fracture] Test AUC: 0.9191\n",
      "\n",
      " Testing model for: Support Devices\n",
      "[Support Devices] Test AUC: 0.9099\n"
     ]
    },
    {
     "name": "stderr",
     "output_type": "stream",
     "text": [
      "c:\\Users\\mapei\\AppData\\Local\\Programs\\Python\\Python310\\lib\\site-packages\\torch\\nn\\modules\\transformer.py:385: UserWarning: enable_nested_tensor is True, but self.use_nested_tensor is False because encoder_layer was not TransformerEncoderLayer\n",
      "  warnings.warn(\n"
     ]
    }
   ],
   "source": [
    "\n",
    "for i, label_name in enumerate(label_names):\n",
    "    print(f\"\\n Testing model for: {label_name}\")\n",
    "\n",
    "    # 1. Prepare test data for the current label\n",
    "    test_X, test_y = get_single_label_data(test_embeddings, test_labels, i)\n",
    "    test_ds = SingleLabelDataset(test_X, test_y)\n",
    "    test_loader = DataLoader(test_ds, batch_size=32, shuffle=False)\n",
    "\n",
    "    # 2. Rebuild the model architecture and load saved weights\n",
    "    model = TabTransformer(input_dim=1376, hidden_dim=128, output_dim=1)\n",
    "    model.load_state_dict(torch.load(f\"transformer_label_{i}_{label_name}.pt\"))\n",
    "    model = model.to(device)\n",
    "\n",
    "    # 3. Evaluate on the test set\n",
    "    test_auc = evaluate_model(model, test_loader, device)\n",
    "    print(f\"[{label_name}] Test AUC: {test_auc:.4f}\")"
   ]
  },
  {
   "cell_type": "code",
   "execution_count": 36,
   "metadata": {},
   "outputs": [
    {
     "name": "stdout",
     "output_type": "stream",
     "text": [
      "==============================\n",
      " Test Evaluation Report for: Enlarged Cardiomediastinum\n",
      "==============================\n"
     ]
    },
    {
     "name": "stderr",
     "output_type": "stream",
     "text": [
      "c:\\Users\\mapei\\AppData\\Local\\Programs\\Python\\Python310\\lib\\site-packages\\torch\\nn\\modules\\transformer.py:385: UserWarning: enable_nested_tensor is True, but self.use_nested_tensor is False because encoder_layer was not TransformerEncoderLayer\n",
      "  warnings.warn(\n"
     ]
    },
    {
     "name": "stdout",
     "output_type": "stream",
     "text": [
      "==============================\n",
      " Test Evaluation Report for: Cardiomegaly\n",
      "==============================\n"
     ]
    },
    {
     "name": "stderr",
     "output_type": "stream",
     "text": [
      "c:\\Users\\mapei\\AppData\\Local\\Programs\\Python\\Python310\\lib\\site-packages\\torch\\nn\\modules\\transformer.py:385: UserWarning: enable_nested_tensor is True, but self.use_nested_tensor is False because encoder_layer was not TransformerEncoderLayer\n",
      "  warnings.warn(\n"
     ]
    },
    {
     "name": "stdout",
     "output_type": "stream",
     "text": [
      "==============================\n",
      " Test Evaluation Report for: Lung Opacity\n",
      "==============================\n",
      "==============================\n",
      " Test Evaluation Report for: Lung Lesion\n",
      "==============================\n"
     ]
    },
    {
     "name": "stderr",
     "output_type": "stream",
     "text": [
      "c:\\Users\\mapei\\AppData\\Local\\Programs\\Python\\Python310\\lib\\site-packages\\torch\\nn\\modules\\transformer.py:385: UserWarning: enable_nested_tensor is True, but self.use_nested_tensor is False because encoder_layer was not TransformerEncoderLayer\n",
      "  warnings.warn(\n",
      "c:\\Users\\mapei\\AppData\\Local\\Programs\\Python\\Python310\\lib\\site-packages\\torch\\nn\\modules\\transformer.py:385: UserWarning: enable_nested_tensor is True, but self.use_nested_tensor is False because encoder_layer was not TransformerEncoderLayer\n",
      "  warnings.warn(\n"
     ]
    },
    {
     "name": "stdout",
     "output_type": "stream",
     "text": [
      "==============================\n",
      " Test Evaluation Report for: Edema\n",
      "==============================\n",
      "==============================\n",
      " Test Evaluation Report for: Consolidation\n",
      "==============================\n"
     ]
    },
    {
     "name": "stderr",
     "output_type": "stream",
     "text": [
      "c:\\Users\\mapei\\AppData\\Local\\Programs\\Python\\Python310\\lib\\site-packages\\torch\\nn\\modules\\transformer.py:385: UserWarning: enable_nested_tensor is True, but self.use_nested_tensor is False because encoder_layer was not TransformerEncoderLayer\n",
      "  warnings.warn(\n",
      "c:\\Users\\mapei\\AppData\\Local\\Programs\\Python\\Python310\\lib\\site-packages\\torch\\nn\\modules\\transformer.py:385: UserWarning: enable_nested_tensor is True, but self.use_nested_tensor is False because encoder_layer was not TransformerEncoderLayer\n",
      "  warnings.warn(\n"
     ]
    },
    {
     "name": "stdout",
     "output_type": "stream",
     "text": [
      "==============================\n",
      " Test Evaluation Report for: Pneumonia\n",
      "==============================\n",
      "==============================\n",
      " Test Evaluation Report for: Atelectasis\n",
      "==============================\n"
     ]
    },
    {
     "name": "stderr",
     "output_type": "stream",
     "text": [
      "c:\\Users\\mapei\\AppData\\Local\\Programs\\Python\\Python310\\lib\\site-packages\\torch\\nn\\modules\\transformer.py:385: UserWarning: enable_nested_tensor is True, but self.use_nested_tensor is False because encoder_layer was not TransformerEncoderLayer\n",
      "  warnings.warn(\n",
      "c:\\Users\\mapei\\AppData\\Local\\Programs\\Python\\Python310\\lib\\site-packages\\torch\\nn\\modules\\transformer.py:385: UserWarning: enable_nested_tensor is True, but self.use_nested_tensor is False because encoder_layer was not TransformerEncoderLayer\n",
      "  warnings.warn(\n"
     ]
    },
    {
     "name": "stdout",
     "output_type": "stream",
     "text": [
      "==============================\n",
      " Test Evaluation Report for: Pneumothorax\n",
      "==============================\n"
     ]
    },
    {
     "name": "stderr",
     "output_type": "stream",
     "text": [
      "c:\\Users\\mapei\\AppData\\Local\\Programs\\Python\\Python310\\lib\\site-packages\\torch\\nn\\modules\\transformer.py:385: UserWarning: enable_nested_tensor is True, but self.use_nested_tensor is False because encoder_layer was not TransformerEncoderLayer\n",
      "  warnings.warn(\n"
     ]
    },
    {
     "name": "stdout",
     "output_type": "stream",
     "text": [
      "==============================\n",
      " Test Evaluation Report for: Pleural Effusion\n",
      "==============================\n",
      "==============================\n",
      " Test Evaluation Report for: Pleural Other\n",
      "==============================\n"
     ]
    },
    {
     "name": "stderr",
     "output_type": "stream",
     "text": [
      "c:\\Users\\mapei\\AppData\\Local\\Programs\\Python\\Python310\\lib\\site-packages\\torch\\nn\\modules\\transformer.py:385: UserWarning: enable_nested_tensor is True, but self.use_nested_tensor is False because encoder_layer was not TransformerEncoderLayer\n",
      "  warnings.warn(\n",
      "c:\\Users\\mapei\\AppData\\Local\\Programs\\Python\\Python310\\lib\\site-packages\\torch\\nn\\modules\\transformer.py:385: UserWarning: enable_nested_tensor is True, but self.use_nested_tensor is False because encoder_layer was not TransformerEncoderLayer\n",
      "  warnings.warn(\n"
     ]
    },
    {
     "name": "stdout",
     "output_type": "stream",
     "text": [
      "==============================\n",
      " Test Evaluation Report for: Fracture\n",
      "==============================\n",
      "==============================\n",
      " Test Evaluation Report for: Support Devices\n",
      "==============================\n"
     ]
    },
    {
     "name": "stderr",
     "output_type": "stream",
     "text": [
      "c:\\Users\\mapei\\AppData\\Local\\Programs\\Python\\Python310\\lib\\site-packages\\torch\\nn\\modules\\transformer.py:385: UserWarning: enable_nested_tensor is True, but self.use_nested_tensor is False because encoder_layer was not TransformerEncoderLayer\n",
      "  warnings.warn(\n",
      "c:\\Users\\mapei\\AppData\\Local\\Programs\\Python\\Python310\\lib\\site-packages\\torch\\nn\\modules\\transformer.py:385: UserWarning: enable_nested_tensor is True, but self.use_nested_tensor is False because encoder_layer was not TransformerEncoderLayer\n",
      "  warnings.warn(\n"
     ]
    },
    {
     "name": "stdout",
     "output_type": "stream",
     "text": [
      "\n",
      " Saved report with accuracy to: test_metrics_per_label.csv\n"
     ]
    }
   ],
   "source": [
    "def safe_get(report, class_label, metric):\n",
    "    \"\"\"\n",
    "    Safely extract a specific class or average metric.\n",
    "    - For class_label as 0 or 1, try multiple key formats;\n",
    "    - For average entries like 'macro avg', lookup directly.\n",
    "    \"\"\"\n",
    "    if isinstance(class_label, (int, float)):\n",
    "        keys_to_try = [class_label, str(class_label), f\"{float(class_label):.1f}\"]\n",
    "    else:\n",
    "        keys_to_try = [class_label]\n",
    "\n",
    "    for key in keys_to_try:\n",
    "        if key in report and metric in report[key]:\n",
    "            return report[key][metric]\n",
    "    return np.nan\n",
    "\n",
    "\n",
    "def evaluate_full_report(model, dataloader, device):\n",
    "    model.eval()\n",
    "    all_labels = []\n",
    "    all_preds = []\n",
    "\n",
    "    with torch.no_grad():\n",
    "        for batch in dataloader:\n",
    "            x = batch[\"embedding\"].to(device)\n",
    "            y = batch[\"lab\"].to(device)\n",
    "\n",
    "            logits = model(x)\n",
    "            probs = torch.sigmoid(logits)\n",
    "            preds = (probs > 0.5).float()\n",
    "\n",
    "            all_labels.extend(y.cpu().numpy())\n",
    "            all_preds.extend(preds.cpu().numpy())\n",
    "\n",
    "    # Accuracy: how many predictions match the ground truth\n",
    "    accuracy = (np.array(all_labels) == np.array(all_preds)).mean()\n",
    "\n",
    "    return classification_report(all_labels, all_preds, digits=4, output_dict=True), accuracy\n",
    "\n",
    "\n",
    "# Collect reports for all labels\n",
    "report_dict = {}\n",
    "\n",
    "for i, label_name in enumerate(label_names):\n",
    "    print(\"=\" * 30)\n",
    "    print(f\" Test Evaluation Report for: {label_name}\")\n",
    "    print(\"=\" * 30)\n",
    "\n",
    "    # 1. Load test data for current label\n",
    "    test_X, test_y = get_single_label_data(test_embeddings, test_labels, i)\n",
    "    test_ds = SingleLabelDataset(test_X, test_y)\n",
    "    test_loader = DataLoader(test_ds, batch_size=32, shuffle=False)\n",
    "\n",
    "    # 2. Load corresponding model\n",
    "    model = TabTransformer(input_dim=1376, hidden_dim=128, output_dim=1)\n",
    "    model.load_state_dict(torch.load(f\"transformer_label_{i}_{label_name}.pt\"))\n",
    "    model = model.to(device)\n",
    "\n",
    "    # 3. Get classification report and accuracy\n",
    "    report, acc = evaluate_full_report(model, test_loader, device)\n",
    "\n",
    "    report_dict[label_name] = {\n",
    "        # Class 0\n",
    "        'precision_0': safe_get(report, 0, 'precision'),\n",
    "        'recall_0': safe_get(report, 0, 'recall'),\n",
    "        'f1-score_0': safe_get(report, 0, 'f1-score'),\n",
    "\n",
    "        # Class 1\n",
    "        'precision_1': safe_get(report, 1, 'precision'),\n",
    "        'recall_1': safe_get(report, 1, 'recall'),\n",
    "        'f1-score_1': safe_get(report, 1, 'f1-score'),\n",
    "\n",
    "        # Macro average\n",
    "        'precision': safe_get(report, 'macro avg', 'precision'),\n",
    "        'recall': safe_get(report, 'macro avg', 'recall'),\n",
    "        'f1-score': safe_get(report, 'macro avg', 'f1-score'),\n",
    "        'support': safe_get(report, 'macro avg', 'support'),\n",
    "\n",
    "        # Accuracy\n",
    "        'accuracy': acc\n",
    "    }\n",
    "\n",
    "# Save as DataFrame\n",
    "df = pd.DataFrame(report_dict)\n",
    "df.index.name = \"Metric\"\n",
    "df = df.round(4)\n",
    "df.to_csv(\"test_metrics_per_label.csv\")\n",
    "print(\"\\n Saved report with accuracy to: test_metrics_per_label.csv\")"
   ]
  },
  {
   "cell_type": "code",
   "execution_count": 37,
   "metadata": {},
   "outputs": [
    {
     "name": "stdout",
     "output_type": "stream",
     "text": [
      "========================================\n",
      " Test Metrics for: Enlarged Cardiomediastinum\n",
      "========================================\n"
     ]
    },
    {
     "name": "stderr",
     "output_type": "stream",
     "text": [
      "c:\\Users\\mapei\\AppData\\Local\\Programs\\Python\\Python310\\lib\\site-packages\\torch\\nn\\modules\\transformer.py:385: UserWarning: enable_nested_tensor is True, but self.use_nested_tensor is False because encoder_layer was not TransformerEncoderLayer\n",
      "  warnings.warn(\n"
     ]
    },
    {
     "name": "stdout",
     "output_type": "stream",
     "text": [
      "AUC Score:              0.9004\n",
      "Average Precision (AP): 0.5751\n",
      "\n",
      "========================================\n",
      " Test Metrics for: Cardiomegaly\n",
      "========================================\n",
      "AUC Score:              0.9123\n",
      "Average Precision (AP): 0.5640\n",
      "\n",
      "========================================\n",
      " Test Metrics for: Lung Opacity\n",
      "========================================\n"
     ]
    },
    {
     "name": "stderr",
     "output_type": "stream",
     "text": [
      "c:\\Users\\mapei\\AppData\\Local\\Programs\\Python\\Python310\\lib\\site-packages\\torch\\nn\\modules\\transformer.py:385: UserWarning: enable_nested_tensor is True, but self.use_nested_tensor is False because encoder_layer was not TransformerEncoderLayer\n",
      "  warnings.warn(\n",
      "c:\\Users\\mapei\\AppData\\Local\\Programs\\Python\\Python310\\lib\\site-packages\\torch\\nn\\modules\\transformer.py:385: UserWarning: enable_nested_tensor is True, but self.use_nested_tensor is False because encoder_layer was not TransformerEncoderLayer\n",
      "  warnings.warn(\n"
     ]
    },
    {
     "name": "stdout",
     "output_type": "stream",
     "text": [
      "AUC Score:              0.8974\n",
      "Average Precision (AP): 0.2841\n",
      "\n",
      "========================================\n",
      " Test Metrics for: Lung Lesion\n",
      "========================================\n"
     ]
    },
    {
     "name": "stderr",
     "output_type": "stream",
     "text": [
      "c:\\Users\\mapei\\AppData\\Local\\Programs\\Python\\Python310\\lib\\site-packages\\torch\\nn\\modules\\transformer.py:385: UserWarning: enable_nested_tensor is True, but self.use_nested_tensor is False because encoder_layer was not TransformerEncoderLayer\n",
      "  warnings.warn(\n"
     ]
    },
    {
     "name": "stdout",
     "output_type": "stream",
     "text": [
      "AUC Score:              0.9593\n",
      "Average Precision (AP): 0.5065\n",
      "\n",
      "========================================\n",
      " Test Metrics for: Edema\n",
      "========================================\n"
     ]
    },
    {
     "name": "stderr",
     "output_type": "stream",
     "text": [
      "c:\\Users\\mapei\\AppData\\Local\\Programs\\Python\\Python310\\lib\\site-packages\\torch\\nn\\modules\\transformer.py:385: UserWarning: enable_nested_tensor is True, but self.use_nested_tensor is False because encoder_layer was not TransformerEncoderLayer\n",
      "  warnings.warn(\n"
     ]
    },
    {
     "name": "stdout",
     "output_type": "stream",
     "text": [
      "AUC Score:              0.7945\n",
      "Average Precision (AP): 0.0899\n",
      "\n",
      "========================================\n",
      " Test Metrics for: Consolidation\n",
      "========================================\n",
      "AUC Score:              0.7759\n",
      "Average Precision (AP): 0.1395\n",
      "\n",
      "========================================\n",
      " Test Metrics for: Pneumonia\n",
      "========================================\n"
     ]
    },
    {
     "name": "stderr",
     "output_type": "stream",
     "text": [
      "c:\\Users\\mapei\\AppData\\Local\\Programs\\Python\\Python310\\lib\\site-packages\\torch\\nn\\modules\\transformer.py:385: UserWarning: enable_nested_tensor is True, but self.use_nested_tensor is False because encoder_layer was not TransformerEncoderLayer\n",
      "  warnings.warn(\n",
      "c:\\Users\\mapei\\AppData\\Local\\Programs\\Python\\Python310\\lib\\site-packages\\torch\\nn\\modules\\transformer.py:385: UserWarning: enable_nested_tensor is True, but self.use_nested_tensor is False because encoder_layer was not TransformerEncoderLayer\n",
      "  warnings.warn(\n"
     ]
    },
    {
     "name": "stdout",
     "output_type": "stream",
     "text": [
      "AUC Score:              0.8907\n",
      "Average Precision (AP): 0.3361\n",
      "\n",
      "========================================\n",
      " Test Metrics for: Atelectasis\n",
      "========================================\n"
     ]
    },
    {
     "name": "stderr",
     "output_type": "stream",
     "text": [
      "c:\\Users\\mapei\\AppData\\Local\\Programs\\Python\\Python310\\lib\\site-packages\\torch\\nn\\modules\\transformer.py:385: UserWarning: enable_nested_tensor is True, but self.use_nested_tensor is False because encoder_layer was not TransformerEncoderLayer\n",
      "  warnings.warn(\n"
     ]
    },
    {
     "name": "stdout",
     "output_type": "stream",
     "text": [
      "AUC Score:              0.8632\n",
      "Average Precision (AP): 0.5545\n",
      "\n",
      "========================================\n",
      " Test Metrics for: Pneumothorax\n",
      "========================================\n"
     ]
    },
    {
     "name": "stderr",
     "output_type": "stream",
     "text": [
      "c:\\Users\\mapei\\AppData\\Local\\Programs\\Python\\Python310\\lib\\site-packages\\torch\\nn\\modules\\transformer.py:385: UserWarning: enable_nested_tensor is True, but self.use_nested_tensor is False because encoder_layer was not TransformerEncoderLayer\n",
      "  warnings.warn(\n"
     ]
    },
    {
     "name": "stdout",
     "output_type": "stream",
     "text": [
      "AUC Score:              0.9463\n",
      "Average Precision (AP): 0.6722\n",
      "\n",
      "========================================\n",
      " Test Metrics for: Pleural Effusion\n",
      "========================================\n"
     ]
    },
    {
     "name": "stderr",
     "output_type": "stream",
     "text": [
      "c:\\Users\\mapei\\AppData\\Local\\Programs\\Python\\Python310\\lib\\site-packages\\torch\\nn\\modules\\transformer.py:385: UserWarning: enable_nested_tensor is True, but self.use_nested_tensor is False because encoder_layer was not TransformerEncoderLayer\n",
      "  warnings.warn(\n"
     ]
    },
    {
     "name": "stdout",
     "output_type": "stream",
     "text": [
      "AUC Score:              0.9224\n",
      "Average Precision (AP): 0.2009\n",
      "\n",
      "========================================\n",
      " Test Metrics for: Pleural Other\n",
      "========================================\n"
     ]
    },
    {
     "name": "stderr",
     "output_type": "stream",
     "text": [
      "c:\\Users\\mapei\\AppData\\Local\\Programs\\Python\\Python310\\lib\\site-packages\\torch\\nn\\modules\\transformer.py:385: UserWarning: enable_nested_tensor is True, but self.use_nested_tensor is False because encoder_layer was not TransformerEncoderLayer\n",
      "  warnings.warn(\n"
     ]
    },
    {
     "name": "stdout",
     "output_type": "stream",
     "text": [
      "AUC Score:              0.8377\n",
      "Average Precision (AP): 0.3985\n",
      "\n",
      "========================================\n",
      " Test Metrics for: Fracture\n",
      "========================================\n",
      "AUC Score:              0.9191\n",
      "Average Precision (AP): 0.3248\n",
      "\n",
      "========================================\n",
      " Test Metrics for: Support Devices\n",
      "========================================\n"
     ]
    },
    {
     "name": "stderr",
     "output_type": "stream",
     "text": [
      "c:\\Users\\mapei\\AppData\\Local\\Programs\\Python\\Python310\\lib\\site-packages\\torch\\nn\\modules\\transformer.py:385: UserWarning: enable_nested_tensor is True, but self.use_nested_tensor is False because encoder_layer was not TransformerEncoderLayer\n",
      "  warnings.warn(\n",
      "c:\\Users\\mapei\\AppData\\Local\\Programs\\Python\\Python310\\lib\\site-packages\\torch\\nn\\modules\\transformer.py:385: UserWarning: enable_nested_tensor is True, but self.use_nested_tensor is False because encoder_layer was not TransformerEncoderLayer\n",
      "  warnings.warn(\n"
     ]
    },
    {
     "name": "stdout",
     "output_type": "stream",
     "text": [
      "AUC Score:              0.9099\n",
      "Average Precision (AP): 0.4141\n",
      "\n"
     ]
    }
   ],
   "source": [
    "def evaluate_auc_ap(model, dataloader, device):\n",
    "    model.eval()\n",
    "    all_probs = []\n",
    "    all_targets = []\n",
    "\n",
    "    with torch.no_grad():\n",
    "        for batch in dataloader:\n",
    "            x = batch[\"embedding\"].to(device)\n",
    "            y = batch[\"lab\"].to(device).squeeze()\n",
    "\n",
    "            logits = model(x).squeeze()\n",
    "            probs = torch.sigmoid(logits)\n",
    "\n",
    "            all_probs.extend(probs.cpu().numpy())\n",
    "            all_targets.extend(y.cpu().numpy())\n",
    "\n",
    "    try:\n",
    "        auc = roc_auc_score(all_targets, all_probs)\n",
    "    except ValueError:\n",
    "        auc = float('nan')\n",
    "\n",
    "    try:\n",
    "        ap = average_precision_score(all_targets, all_probs)\n",
    "    except ValueError:\n",
    "        ap = float('nan')\n",
    "\n",
    "    return auc, ap\n",
    "\n",
    "#  Evaluate on Test Set\n",
    "\n",
    "device = torch.device(\"cuda\" if torch.cuda.is_available() else \"cpu\")\n",
    "\n",
    "for i, label_name in enumerate(label_names):\n",
    "    print(\"=\" * 40)\n",
    "    print(f\" Test Metrics for: {label_name}\")\n",
    "    print(\"=\" * 40)\n",
    "\n",
    "    # 1. Load test data\n",
    "    test_X, test_y = get_single_label_data(test_embeddings, test_labels, i)\n",
    "    test_ds = SingleLabelDataset(test_X, test_y)\n",
    "    test_loader = DataLoader(test_ds, batch_size=32, shuffle=False)\n",
    "\n",
    "    # 2. Load model\n",
    "    model = TabTransformer(input_dim=1376, hidden_dim=128, output_dim=1)\n",
    "    model.load_state_dict(torch.load(f\"transformer_label_{i}_{label_name}.pt\"))\n",
    "    model = model.to(device)\n",
    "\n",
    "    # 3. Evaluate\n",
    "    auc, ap = evaluate_auc_ap(model, test_loader, device)\n",
    "    print(f\"AUC Score:              {auc:.4f}\")\n",
    "    print(f\"Average Precision (AP): {ap:.4f}\\n\")"
   ]
  },
  {
   "cell_type": "code",
   "execution_count": 38,
   "metadata": {},
   "outputs": [
    {
     "name": "stdout",
     "output_type": "stream",
     "text": [
      "Evaluating label: Enlarged Cardiomediastinum\n"
     ]
    },
    {
     "name": "stderr",
     "output_type": "stream",
     "text": [
      "c:\\Users\\mapei\\AppData\\Local\\Programs\\Python\\Python310\\lib\\site-packages\\torch\\nn\\modules\\transformer.py:385: UserWarning: enable_nested_tensor is True, but self.use_nested_tensor is False because encoder_layer was not TransformerEncoderLayer\n",
      "  warnings.warn(\n"
     ]
    },
    {
     "name": "stdout",
     "output_type": "stream",
     "text": [
      "Evaluating label: Cardiomegaly\n",
      "Evaluating label: Lung Opacity\n",
      "Evaluating label: Lung Lesion\n",
      "Evaluating label: Edema\n",
      "Evaluating label: Consolidation\n",
      "Evaluating label: Pneumonia\n",
      "Evaluating label: Atelectasis\n",
      "Evaluating label: Pneumothorax\n",
      "Evaluating label: Pleural Effusion\n",
      "Evaluating label: Pleural Other\n",
      "Evaluating label: Fracture\n",
      "Evaluating label: Support Devices\n",
      "\n",
      " Evaluation on Test Set using per-label skipping of NaNs:\n",
      "Micro Accuracy (label-wise overall):     0.8818\n",
      "Macro Accuracy (avg per label):          0.8841\n",
      "\n",
      " Per-Label PR-AUC (Precision-Recall AUC):\n",
      "Enlarged Cardiomediastinum → PR-AUC: 0.5751\n",
      "Cardiomegaly              → PR-AUC: 0.5640\n",
      "Lung Opacity              → PR-AUC: 0.2841\n",
      "Lung Lesion               → PR-AUC: 0.5065\n",
      "Edema                     → PR-AUC: 0.0899\n",
      "Consolidation             → PR-AUC: 0.1395\n",
      "Pneumonia                 → PR-AUC: 0.3361\n",
      "Atelectasis               → PR-AUC: 0.5545\n",
      "Pneumothorax              → PR-AUC: 0.6722\n",
      "Pleural Effusion          → PR-AUC: 0.2009\n",
      "Pleural Other             → PR-AUC: 0.3985\n",
      "Fracture                  → PR-AUC: 0.3248\n",
      "Support Devices           → PR-AUC: 0.4141\n",
      "\n",
      "Macro PR-AUC (avg across labels): 0.3892\n",
      "\n",
      " Label-wise Distribution After Skipping NaNs Individually (per-label view):\n",
      "\n",
      "Enlarged Cardiomediastinum → 0: 3046  | 1: 446   | total: 3492 \n",
      "Cardiomegaly              → 0: 3202  | 1: 400   | total: 3602 \n",
      "Lung Opacity              → 0: 3167  | 1: 75    | total: 3242 \n",
      "Lung Lesion               → 0: 3332  | 1: 123   | total: 3455 \n",
      "Edema                     → 0: 3106  | 1: 70    | total: 3176 \n",
      "Consolidation             → 0: 3047  | 1: 82    | total: 3129 \n",
      "Pneumonia                 → 0: 3057  | 1: 120   | total: 3177 \n",
      "Atelectasis               → 0: 3068  | 1: 576   | total: 3644 \n",
      "Pneumothorax              → 0: 3295  | 1: 393   | total: 3688 \n",
      "Pleural Effusion          → 0: 3038  | 1: 44    | total: 3082 \n",
      "Pleural Other             → 0: 3310  | 1: 226   | total: 3536 \n",
      "Fracture                  → 0: 3341  | 1: 55    | total: 3396 \n",
      "Support Devices           → 0: 3067  | 1: 201   | total: 3268 \n"
     ]
    }
   ],
   "source": [
    "#  Evaluate multi-label classification models on the test set\n",
    "#  Strategy: Per-label evaluation by skipping NaNs individually\n",
    "\n",
    "# Step 1: Predict each label individually, skipping NaNs\n",
    "all_true = []\n",
    "all_pred = []\n",
    "\n",
    "device = torch.device(\"cuda\" if torch.cuda.is_available() else \"cpu\")\n",
    "\n",
    "for i, label_name in enumerate(label_names):\n",
    "    print(f\"Evaluating label: {label_name}\")\n",
    "\n",
    "    # Select non-NaN samples for this label\n",
    "    mask = ~np.isnan(test_labels[:, i])\n",
    "    X = test_embeddings[mask]\n",
    "    y = test_labels[mask, i]\n",
    "\n",
    "    test_ds = SingleLabelDataset(X, y)\n",
    "    test_loader = DataLoader(test_ds, batch_size=32, shuffle=False)\n",
    "\n",
    "    # Load model\n",
    "    model = TabTransformer(input_dim=1376, hidden_dim=128, output_dim=1)\n",
    "    model.load_state_dict(torch.load(f\"transformer_label_{i}_{label_name}.pt\"))\n",
    "    model = model.to(device)\n",
    "    model.eval()\n",
    "\n",
    "    preds = []\n",
    "    true_vals = []\n",
    "\n",
    "    with torch.no_grad():\n",
    "        for batch in test_loader:\n",
    "            x = batch[\"embedding\"].to(device)\n",
    "            y_batch = batch[\"lab\"].to(device)\n",
    "\n",
    "            logits = model(x)\n",
    "            probs = torch.sigmoid(logits)\n",
    "            preds.extend(probs.cpu().numpy())  # Use raw probabilities for PR-AUC\n",
    "            true_vals.extend(y_batch.cpu().numpy())\n",
    "\n",
    "    all_pred.append(np.array(preds).flatten())\n",
    "    all_true.append(np.array(true_vals).flatten())\n",
    "\n",
    "# Step 2: Compute metrics\n",
    "micro_acc = accuracy_score(\n",
    "    np.concatenate([t.round() for t in all_true]),\n",
    "    np.concatenate([p > 0.5 for p in all_pred])\n",
    ")\n",
    "macro_acc = np.mean([\n",
    "    accuracy_score(all_true[i].round(), (all_pred[i] > 0.5).astype(int)) for i in range(len(label_names))\n",
    "])\n",
    "\n",
    "# Step 3: Compute PR-AUC per label\n",
    "pr_auc_per_label = []\n",
    "for i in range(len(label_names)):\n",
    "    if len(np.unique(all_true[i])) > 1:\n",
    "        auc = average_precision_score(all_true[i], all_pred[i])\n",
    "        pr_auc_per_label.append(auc)\n",
    "    else:\n",
    "        pr_auc_per_label.append(np.nan)  # Cannot compute AUC with one class only\n",
    "\n",
    "# Step 4: Print results\n",
    "print(\"\\n Evaluation on Test Set using per-label skipping of NaNs:\")\n",
    "print(f\"Micro Accuracy (label-wise overall):     {micro_acc:.4f}\")\n",
    "print(f\"Macro Accuracy (avg per label):          {macro_acc:.4f}\")\n",
    "\n",
    "print(\"\\n Per-Label PR-AUC (Precision-Recall AUC):\")\n",
    "for i, label_name in enumerate(label_names):\n",
    "    auc = pr_auc_per_label[i]\n",
    "    print(f\"{label_name:<25} → PR-AUC: {auc:.4f}\" if not np.isnan(auc) else f\"{label_name:<25} → PR-AUC: N/A\")\n",
    "\n",
    "macro_pr_auc = np.nanmean(pr_auc_per_label)\n",
    "print(f\"\\nMacro PR-AUC (avg across labels): {macro_pr_auc:.4f}\")\n",
    "\n",
    "print(\"\\n Label-wise Distribution After Skipping NaNs Individually (per-label view):\\n\")\n",
    "\n",
    "for i, label_name in enumerate(label_names):\n",
    "    label_vals = test_labels[:, i]\n",
    "    valid_mask = ~np.isnan(label_vals)\n",
    "    label_clean = label_vals[valid_mask]\n",
    "\n",
    "    count_0 = np.sum(label_clean == 0)\n",
    "    count_1 = np.sum(label_clean == 1)\n",
    "    print(f\"{label_name:<25} → 0: {count_0:<5} | 1: {count_1:<5} | total: {len(label_clean):<5}\")"
   ]
  }
 ],
 "metadata": {
  "kernelspec": {
   "display_name": "Python 3",
   "language": "python",
   "name": "python3"
  },
  "language_info": {
   "codemirror_mode": {
    "name": "ipython",
    "version": 3
   },
   "file_extension": ".py",
   "mimetype": "text/x-python",
   "name": "python",
   "nbconvert_exporter": "python",
   "pygments_lexer": "ipython3",
   "version": "3.10.6"
  }
 },
 "nbformat": 4,
 "nbformat_minor": 2
}
